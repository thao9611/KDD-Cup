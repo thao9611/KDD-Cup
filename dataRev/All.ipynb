{
 "cells": [
  {
   "cell_type": "code",
   "execution_count": 1,
   "metadata": {
    "collapsed": false
   },
   "outputs": [],
   "source": [
    "import pandas as pd\n",
    "paper= pd.read_csv(r\"C:\\Users\\Admin\\Downloads\\kdd cup\\dataRev\\Paper.csv\")\n",
    "author = pd.read_csv(r\"C:\\Users\\Admin\\Downloads\\kdd cup\\dataRev\\Author.csv\")\n",
    "conference = pd.read_csv(r\"C:\\Users\\Admin\\Downloads\\kdd cup\\dataRev\\Conference.csv\")\n",
    "journal = pd.read_csv(r\"C:\\Users\\Admin\\Downloads\\kdd cup\\dataRev\\Journal.csv\")\n",
    "train = pd.read_csv(r\"C:\\Users\\Admin\\Downloads\\kdd cup\\dataRev\\Train.csv\")\n",
    "valid= pd.read_csv(r\"C:\\Users\\Admin\\Downloads\\kdd cup\\dataRev\\Valid.csv\")"
   ]
  },
  {
   "cell_type": "code",
   "execution_count": 2,
   "metadata": {
    "collapsed": false
   },
   "outputs": [
    {
     "data": {
      "text/html": [
       "<div>\n",
       "<table border=\"1\" class=\"dataframe\">\n",
       "  <thead>\n",
       "    <tr style=\"text-align: right;\">\n",
       "      <th></th>\n",
       "      <th>Title</th>\n",
       "      <th>Year</th>\n",
       "      <th>ConferenceId</th>\n",
       "      <th>JournalId</th>\n",
       "      <th>Keyword</th>\n",
       "    </tr>\n",
       "    <tr>\n",
       "      <th>Id</th>\n",
       "      <th></th>\n",
       "      <th></th>\n",
       "      <th></th>\n",
       "      <th></th>\n",
       "      <th></th>\n",
       "    </tr>\n",
       "  </thead>\n",
       "  <tbody>\n",
       "    <tr>\n",
       "      <th>1</th>\n",
       "      <td>Stitching videos streamed by mobile phones in ...</td>\n",
       "      <td>2009</td>\n",
       "      <td>167</td>\n",
       "      <td>0</td>\n",
       "      <td>mobile video capturing|real-time|video stitching</td>\n",
       "    </tr>\n",
       "    <tr>\n",
       "      <th>2</th>\n",
       "      <td>A nonlocal convection–diffusion equation</td>\n",
       "      <td>2007</td>\n",
       "      <td>0</td>\n",
       "      <td>7234</td>\n",
       "      <td>Nonlocal diffusion; Convection–diffusion; Asym...</td>\n",
       "    </tr>\n",
       "    <tr>\n",
       "      <th>3</th>\n",
       "      <td>Area Effects in Cepaea</td>\n",
       "      <td>1963</td>\n",
       "      <td>0</td>\n",
       "      <td>16867</td>\n",
       "      <td>NaN</td>\n",
       "    </tr>\n",
       "    <tr>\n",
       "      <th>4</th>\n",
       "      <td>Multiple paternity in a natural population of ...</td>\n",
       "      <td>2005</td>\n",
       "      <td>0</td>\n",
       "      <td>6130</td>\n",
       "      <td>NaN</td>\n",
       "    </tr>\n",
       "    <tr>\n",
       "      <th>5</th>\n",
       "      <td>Complexity of Finding Short Resolution Proofs</td>\n",
       "      <td>1997</td>\n",
       "      <td>158</td>\n",
       "      <td>0</td>\n",
       "      <td>NaN</td>\n",
       "    </tr>\n",
       "  </tbody>\n",
       "</table>\n",
       "</div>"
      ],
      "text/plain": [
       "                                                Title  Year  ConferenceId  \\\n",
       "Id                                                                          \n",
       "1   Stitching videos streamed by mobile phones in ...  2009           167   \n",
       "2            A nonlocal convection–diffusion equation  2007             0   \n",
       "3                              Area Effects in Cepaea  1963             0   \n",
       "4   Multiple paternity in a natural population of ...  2005             0   \n",
       "5       Complexity of Finding Short Resolution Proofs  1997           158   \n",
       "\n",
       "    JournalId                                            Keyword  \n",
       "Id                                                                \n",
       "1           0   mobile video capturing|real-time|video stitching  \n",
       "2        7234  Nonlocal diffusion; Convection–diffusion; Asym...  \n",
       "3       16867                                                NaN  \n",
       "4        6130                                                NaN  \n",
       "5           0                                                NaN  "
      ]
     },
     "execution_count": 2,
     "metadata": {},
     "output_type": "execute_result"
    }
   ],
   "source": [
    "paper = paper.set_index('Id')\n",
    "paper['Title'] = paper['Title'].fillna(\"\")\n",
    "paper.head()#(2257249 * 5)"
   ]
  },
  {
   "cell_type": "code",
   "execution_count": 3,
   "metadata": {
    "collapsed": false
   },
   "outputs": [
    {
     "data": {
      "text/html": [
       "<div>\n",
       "<table border=\"1\" class=\"dataframe\">\n",
       "  <thead>\n",
       "    <tr style=\"text-align: right;\">\n",
       "      <th></th>\n",
       "      <th>Id</th>\n",
       "      <th>Name</th>\n",
       "      <th>Affiliation</th>\n",
       "    </tr>\n",
       "  </thead>\n",
       "  <tbody>\n",
       "    <tr>\n",
       "      <th>0</th>\n",
       "      <td>9</td>\n",
       "      <td>Ernest Jordan</td>\n",
       "      <td>NaN</td>\n",
       "    </tr>\n",
       "    <tr>\n",
       "      <th>1</th>\n",
       "      <td>14</td>\n",
       "      <td>K. MORIBE</td>\n",
       "      <td>NaN</td>\n",
       "    </tr>\n",
       "    <tr>\n",
       "      <th>2</th>\n",
       "      <td>15</td>\n",
       "      <td>D. Jakominich</td>\n",
       "      <td>NaN</td>\n",
       "    </tr>\n",
       "    <tr>\n",
       "      <th>3</th>\n",
       "      <td>25</td>\n",
       "      <td>William H. Nailon</td>\n",
       "      <td>NaN</td>\n",
       "    </tr>\n",
       "    <tr>\n",
       "      <th>4</th>\n",
       "      <td>37</td>\n",
       "      <td>P. B. Littlewood</td>\n",
       "      <td>Cavendish Laboratory|Cambridge University</td>\n",
       "    </tr>\n",
       "  </tbody>\n",
       "</table>\n",
       "</div>"
      ],
      "text/plain": [
       "   Id               Name                                Affiliation\n",
       "0   9      Ernest Jordan                                        NaN\n",
       "1  14          K. MORIBE                                        NaN\n",
       "2  15      D. Jakominich                                        NaN\n",
       "3  25  William H. Nailon                                        NaN\n",
       "4  37   P. B. Littlewood  Cavendish Laboratory|Cambridge University"
      ]
     },
     "execution_count": 3,
     "metadata": {},
     "output_type": "execute_result"
    }
   ],
   "source": [
    "author.head()# 247203"
   ]
  },
  {
   "cell_type": "code",
   "execution_count": 4,
   "metadata": {
    "collapsed": false
   },
   "outputs": [
    {
     "data": {
      "text/plain": [
       "247203"
      ]
     },
     "execution_count": 4,
     "metadata": {},
     "output_type": "execute_result"
    }
   ],
   "source": [
    "len(set(author['Id']))"
   ]
  },
  {
   "cell_type": "code",
   "execution_count": 5,
   "metadata": {
    "collapsed": false
   },
   "outputs": [
    {
     "data": {
      "text/html": [
       "<div>\n",
       "<table border=\"1\" class=\"dataframe\">\n",
       "  <thead>\n",
       "    <tr style=\"text-align: right;\">\n",
       "      <th></th>\n",
       "      <th>ShortName</th>\n",
       "      <th>FullName</th>\n",
       "      <th>HomePage</th>\n",
       "    </tr>\n",
       "    <tr>\n",
       "      <th>Id</th>\n",
       "      <th></th>\n",
       "      <th></th>\n",
       "      <th></th>\n",
       "    </tr>\n",
       "  </thead>\n",
       "  <tbody>\n",
       "    <tr>\n",
       "      <th>1</th>\n",
       "      <td>IADIS</td>\n",
       "      <td>International Association for Development of t...</td>\n",
       "      <td>NaN</td>\n",
       "    </tr>\n",
       "    <tr>\n",
       "      <th>2</th>\n",
       "      <td>IADT</td>\n",
       "      <td>Issues and Applications of Database Technology</td>\n",
       "      <td>http://www.informatik.uni-trier.de/~ley/db/con...</td>\n",
       "    </tr>\n",
       "    <tr>\n",
       "      <th>4</th>\n",
       "      <td>NaN</td>\n",
       "      <td>IBM Germany Scientific Symposium Series</td>\n",
       "      <td>http://www.informatik.uni-trier.de/~ley/db/con...</td>\n",
       "    </tr>\n",
       "    <tr>\n",
       "      <th>5</th>\n",
       "      <td>ICOMP</td>\n",
       "      <td>International Conference on Internet Computing</td>\n",
       "      <td>http://www.informatik.uni-trier.de/~ley/db/con...</td>\n",
       "    </tr>\n",
       "    <tr>\n",
       "      <th>6</th>\n",
       "      <td>ICAC</td>\n",
       "      <td>International Conference on Autonomic Computing</td>\n",
       "      <td>http://www.autonomic-conference.org/</td>\n",
       "    </tr>\n",
       "  </tbody>\n",
       "</table>\n",
       "</div>"
      ],
      "text/plain": [
       "   ShortName                                           FullName  \\\n",
       "Id                                                                \n",
       "1      IADIS  International Association for Development of t...   \n",
       "2       IADT     Issues and Applications of Database Technology   \n",
       "4        NaN            IBM Germany Scientific Symposium Series   \n",
       "5      ICOMP     International Conference on Internet Computing   \n",
       "6       ICAC    International Conference on Autonomic Computing   \n",
       "\n",
       "                                             HomePage  \n",
       "Id                                                     \n",
       "1                                                 NaN  \n",
       "2   http://www.informatik.uni-trier.de/~ley/db/con...  \n",
       "4   http://www.informatik.uni-trier.de/~ley/db/con...  \n",
       "5   http://www.informatik.uni-trier.de/~ley/db/con...  \n",
       "6                http://www.autonomic-conference.org/  "
      ]
     },
     "execution_count": 5,
     "metadata": {},
     "output_type": "execute_result"
    }
   ],
   "source": [
    "conference = conference.set_index('Id')\n",
    "conference.head()#4545"
   ]
  },
  {
   "cell_type": "code",
   "execution_count": 6,
   "metadata": {
    "collapsed": false
   },
   "outputs": [
    {
     "data": {
      "text/html": [
       "<div>\n",
       "<table border=\"1\" class=\"dataframe\">\n",
       "  <thead>\n",
       "    <tr style=\"text-align: right;\">\n",
       "      <th></th>\n",
       "      <th>Id</th>\n",
       "      <th>ShortName</th>\n",
       "      <th>FullName</th>\n",
       "      <th>HomePage</th>\n",
       "    </tr>\n",
       "  </thead>\n",
       "  <tbody>\n",
       "    <tr>\n",
       "      <th>0</th>\n",
       "      <td>1</td>\n",
       "      <td>ICOM</td>\n",
       "      <td>Zeitschrift Für Interaktive Und Kooperative Me...</td>\n",
       "      <td>http://www.i-com-media.de</td>\n",
       "    </tr>\n",
       "    <tr>\n",
       "      <th>1</th>\n",
       "      <td>2</td>\n",
       "      <td>AEPIA</td>\n",
       "      <td>Inteligencia Artificial,revista Iberoamericana...</td>\n",
       "      <td>http://aepia.dsic.upv.es/revista/</td>\n",
       "    </tr>\n",
       "    <tr>\n",
       "      <th>2</th>\n",
       "      <td>3</td>\n",
       "      <td>IBMRD</td>\n",
       "      <td>Ibm Journal of Research and Development</td>\n",
       "      <td>http://www-tr.watson.ibm.com/journal/rdindex.html</td>\n",
       "    </tr>\n",
       "    <tr>\n",
       "      <th>3</th>\n",
       "      <td>4</td>\n",
       "      <td>IBMSJ</td>\n",
       "      <td>Ibm Systems Journal</td>\n",
       "      <td>http://researchweb.watson.ibm.com/journal/</td>\n",
       "    </tr>\n",
       "    <tr>\n",
       "      <th>4</th>\n",
       "      <td>5</td>\n",
       "      <td>NaN</td>\n",
       "      <td>Iet Software/iee Proceedings - Software</td>\n",
       "      <td>http://www.ietdl.org/IET-SEN</td>\n",
       "    </tr>\n",
       "  </tbody>\n",
       "</table>\n",
       "</div>"
      ],
      "text/plain": [
       "   Id ShortName                                           FullName  \\\n",
       "0   1      ICOM  Zeitschrift Für Interaktive Und Kooperative Me...   \n",
       "1   2     AEPIA  Inteligencia Artificial,revista Iberoamericana...   \n",
       "2   3     IBMRD            Ibm Journal of Research and Development   \n",
       "3   4     IBMSJ                                Ibm Systems Journal   \n",
       "4   5       NaN            Iet Software/iee Proceedings - Software   \n",
       "\n",
       "                                            HomePage  \n",
       "0                          http://www.i-com-media.de  \n",
       "1                  http://aepia.dsic.upv.es/revista/  \n",
       "2  http://www-tr.watson.ibm.com/journal/rdindex.html  \n",
       "3         http://researchweb.watson.ibm.com/journal/  \n",
       "4                       http://www.ietdl.org/IET-SEN  "
      ]
     },
     "execution_count": 6,
     "metadata": {},
     "output_type": "execute_result"
    }
   ],
   "source": [
    "#journal= journal.set_index('Id')\n",
    "journal.head()#15151"
   ]
  },
  {
   "cell_type": "code",
   "execution_count": 7,
   "metadata": {
    "collapsed": false
   },
   "outputs": [
    {
     "data": {
      "text/html": [
       "<div>\n",
       "<table border=\"1\" class=\"dataframe\">\n",
       "  <thead>\n",
       "    <tr style=\"text-align: right;\">\n",
       "      <th></th>\n",
       "      <th>AuthorId</th>\n",
       "      <th>ConfirmedPaperIds</th>\n",
       "      <th>DeletedPaperIds</th>\n",
       "    </tr>\n",
       "  </thead>\n",
       "  <tbody>\n",
       "    <tr>\n",
       "      <th>0</th>\n",
       "      <td>826</td>\n",
       "      <td>25733 47276 77012 79468 87141 101385 104556 11...</td>\n",
       "      <td>220293 379873 384468 565252 939749 944658 1164...</td>\n",
       "    </tr>\n",
       "    <tr>\n",
       "      <th>1</th>\n",
       "      <td>933</td>\n",
       "      <td>1739240</td>\n",
       "      <td>477879</td>\n",
       "    </tr>\n",
       "    <tr>\n",
       "      <th>2</th>\n",
       "      <td>1118</td>\n",
       "      <td>49963 93433 341015 415282 488635 517119 521922...</td>\n",
       "      <td>961444 1446566</td>\n",
       "    </tr>\n",
       "    <tr>\n",
       "      <th>3</th>\n",
       "      <td>2783</td>\n",
       "      <td>154377 212636 334024 350747 696269 704564 1241...</td>\n",
       "      <td>208521 1207662 1898210</td>\n",
       "    </tr>\n",
       "    <tr>\n",
       "      <th>4</th>\n",
       "      <td>3105</td>\n",
       "      <td>603562 647574 792910 844605 863071 878798 1082...</td>\n",
       "      <td>191079 226980 273592 529834 556687 1052455 131...</td>\n",
       "    </tr>\n",
       "  </tbody>\n",
       "</table>\n",
       "</div>"
      ],
      "text/plain": [
       "   AuthorId                                  ConfirmedPaperIds  \\\n",
       "0       826  25733 47276 77012 79468 87141 101385 104556 11...   \n",
       "1       933                                            1739240   \n",
       "2      1118  49963 93433 341015 415282 488635 517119 521922...   \n",
       "3      2783  154377 212636 334024 350747 696269 704564 1241...   \n",
       "4      3105  603562 647574 792910 844605 863071 878798 1082...   \n",
       "\n",
       "                                     DeletedPaperIds  \n",
       "0  220293 379873 384468 565252 939749 944658 1164...  \n",
       "1                                             477879  \n",
       "2                                     961444 1446566  \n",
       "3                             208521 1207662 1898210  \n",
       "4  191079 226980 273592 529834 556687 1052455 131...  "
      ]
     },
     "execution_count": 7,
     "metadata": {},
     "output_type": "execute_result"
    }
   ],
   "source": [
    "train.head()#3739,3"
   ]
  },
  {
   "cell_type": "code",
   "execution_count": 8,
   "metadata": {
    "collapsed": false
   },
   "outputs": [],
   "source": [
    "#paper_author = pd.read_csv(r\"C:\\Users\\Admin\\Downloads\\kdd cup\\dataRev\\PaperAuthor.csv\")"
   ]
  },
  {
   "cell_type": "code",
   "execution_count": 9,
   "metadata": {
    "collapsed": false
   },
   "outputs": [
    {
     "data": {
      "text/html": [
       "<div>\n",
       "<table border=\"1\" class=\"dataframe\">\n",
       "  <thead>\n",
       "    <tr style=\"text-align: right;\">\n",
       "      <th></th>\n",
       "      <th>Id</th>\n",
       "      <th>Name</th>\n",
       "      <th>Affiliation</th>\n",
       "    </tr>\n",
       "  </thead>\n",
       "  <tbody>\n",
       "    <tr>\n",
       "      <th>56070</th>\n",
       "      <td>521630</td>\n",
       "      <td>Ayman Kaheel</td>\n",
       "      <td>Microsoft Innovation Lab in Cairo</td>\n",
       "    </tr>\n",
       "  </tbody>\n",
       "</table>\n",
       "</div>"
      ],
      "text/plain": [
       "           Id          Name                        Affiliation\n",
       "56070  521630  Ayman Kaheel  Microsoft Innovation Lab in Cairo"
      ]
     },
     "execution_count": 9,
     "metadata": {},
     "output_type": "execute_result"
    }
   ],
   "source": [
    "author.loc[author[\"Id\"]==521630]"
   ]
  },
  {
   "cell_type": "code",
   "execution_count": 10,
   "metadata": {
    "collapsed": false
   },
   "outputs": [
    {
     "data": {
      "text/html": [
       "<div>\n",
       "<table border=\"1\" class=\"dataframe\">\n",
       "  <thead>\n",
       "    <tr style=\"text-align: right;\">\n",
       "      <th></th>\n",
       "      <th>AuthorId</th>\n",
       "      <th>PaperIds</th>\n",
       "    </tr>\n",
       "  </thead>\n",
       "  <tbody>\n",
       "  </tbody>\n",
       "</table>\n",
       "</div>"
      ],
      "text/plain": [
       "Empty DataFrame\n",
       "Columns: [AuthorId, PaperIds]\n",
       "Index: []"
      ]
     },
     "execution_count": 10,
     "metadata": {},
     "output_type": "execute_result"
    }
   ],
   "source": [
    "valid.loc[valid['AuthorId']== 521630]"
   ]
  },
  {
   "cell_type": "code",
   "execution_count": 11,
   "metadata": {
    "collapsed": false
   },
   "outputs": [
    {
     "data": {
      "text/html": [
       "<div>\n",
       "<table border=\"1\" class=\"dataframe\">\n",
       "  <thead>\n",
       "    <tr style=\"text-align: right;\">\n",
       "      <th></th>\n",
       "      <th>AuthorId</th>\n",
       "      <th>PaperIds</th>\n",
       "    </tr>\n",
       "  </thead>\n",
       "  <tbody>\n",
       "    <tr>\n",
       "      <th>0</th>\n",
       "      <td>55</td>\n",
       "      <td>2507 15471 19294 20444 24074 25103 25304 36459...</td>\n",
       "    </tr>\n",
       "    <tr>\n",
       "      <th>1</th>\n",
       "      <td>426</td>\n",
       "      <td>873 37257 92584 174625 212235 284639 581263 60...</td>\n",
       "    </tr>\n",
       "    <tr>\n",
       "      <th>2</th>\n",
       "      <td>1861</td>\n",
       "      <td>59550 124595 282043 528639 922192 1048827 1059...</td>\n",
       "    </tr>\n",
       "    <tr>\n",
       "      <th>3</th>\n",
       "      <td>10212</td>\n",
       "      <td>24013 49767 131299 173546 195044 199989 213826...</td>\n",
       "    </tr>\n",
       "    <tr>\n",
       "      <th>4</th>\n",
       "      <td>10275</td>\n",
       "      <td>300441 358576 368138 389312 871240 876311 9952...</td>\n",
       "    </tr>\n",
       "  </tbody>\n",
       "</table>\n",
       "</div>"
      ],
      "text/plain": [
       "   AuthorId                                           PaperIds\n",
       "0        55  2507 15471 19294 20444 24074 25103 25304 36459...\n",
       "1       426  873 37257 92584 174625 212235 284639 581263 60...\n",
       "2      1861  59550 124595 282043 528639 922192 1048827 1059...\n",
       "3     10212  24013 49767 131299 173546 195044 199989 213826...\n",
       "4     10275  300441 358576 368138 389312 871240 876311 9952..."
      ]
     },
     "execution_count": 11,
     "metadata": {},
     "output_type": "execute_result"
    }
   ],
   "source": [
    "valid.head()"
   ]
  },
  {
   "cell_type": "code",
   "execution_count": 12,
   "metadata": {
    "collapsed": false
   },
   "outputs": [],
   "source": [
    "#test = pd.read_csv(r\"C:\\Users\\Admin\\Downloads\\kdd cup\\dataRev\\Test.csv\")\n",
    "#test.head()"
   ]
  },
  {
   "cell_type": "markdown",
   "metadata": {},
   "source": [
    "# Count features"
   ]
  },
  {
   "cell_type": "code",
   "execution_count": 13,
   "metadata": {
    "collapsed": true
   },
   "outputs": [],
   "source": [
    "#count of authors of paper\n",
    "#count of paper from same conference(journal)\n",
    "#count of authors from same conference(journal)\n",
    "#count of keywords in the paper"
   ]
  },
  {
   "cell_type": "markdown",
   "metadata": {},
   "source": [
    "## NLP features"
   ]
  },
  {
   "cell_type": "code",
   "execution_count": 14,
   "metadata": {
    "collapsed": false
   },
   "outputs": [
    {
     "data": {
      "text/plain": [
       "(2257249, 350765)"
      ]
     },
     "execution_count": 14,
     "metadata": {},
     "output_type": "execute_result"
    }
   ],
   "source": [
    "#united keywords and title fields, remove duplicated and low-frequency terms(less than 30)\n",
    "title = list(paper['Title'])\n",
    "from sklearn.feature_extraction.text import CountVectorizer\n",
    "count_vector = CountVectorizer(stop_words = 'english')\n",
    "title_vector = count_vector.fit_transform(title)\n",
    "title_vector.shape"
   ]
  },
  {
   "cell_type": "markdown",
   "metadata": {
    "collapsed": false
   },
   "source": [
    "vocab = count_vector.fit(title)\n",
    "vocab.vocabulary_"
   ]
  },
  {
   "cell_type": "code",
   "execution_count": null,
   "metadata": {
    "collapsed": false
   },
   "outputs": [],
   "source": [
    "total_tf = [title_vector[:,i] for i in range(title_vector.shape[1])]\n",
    "len(total_tf)"
   ]
  },
  {
   "cell_type": "code",
   "execution_count": null,
   "metadata": {
    "collapsed": true
   },
   "outputs": [],
   "source": []
  }
 ],
 "metadata": {
  "anaconda-cloud": {},
  "kernelspec": {
   "display_name": "Python [conda root]",
   "language": "python",
   "name": "conda-root-py"
  },
  "language_info": {
   "codemirror_mode": {
    "name": "ipython",
    "version": 3
   },
   "file_extension": ".py",
   "mimetype": "text/x-python",
   "name": "python",
   "nbconvert_exporter": "python",
   "pygments_lexer": "ipython3",
   "version": "3.5.2"
  }
 },
 "nbformat": 4,
 "nbformat_minor": 1
}
