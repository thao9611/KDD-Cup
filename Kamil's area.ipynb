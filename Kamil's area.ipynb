{
 "cells": [
  {
   "cell_type": "code",
   "execution_count": 1,
   "metadata": {
    "collapsed": true
   },
   "outputs": [],
   "source": [
    "import pandas as pd\n",
    "import numpy as np\n",
    "from IPython.display import display, HTML\n",
    "from extract_feature import *"
   ]
  },
  {
   "cell_type": "code",
   "execution_count": 63,
   "metadata": {},
   "outputs": [],
   "source": [
    "dataset = {}\n",
    "dataset['paper'] = pd.read_csv('dataRev2/Paper.csv').fillna(\"\")\n",
    "dataset['author'] = pd.read_csv('dataRev2/Author.csv').fillna(\"\")\n",
    "dataset['conference'] = pd.read_csv('dataRev2/Conference.csv').fillna(\"\")\n",
    "dataset['journal'] = pd.read_csv('dataRev2/Journal.csv').fillna(\"\")\n",
    "dataset['paper_author'] = pd.read_csv('dataRev2/PaperAuthor.csv').fillna(\"\")"
   ]
  },
  {
   "cell_type": "code",
   "execution_count": 102,
   "metadata": {},
   "outputs": [],
   "source": [
    "def generate_feature_list(author_paper_pairs, ap_to_feature_list):\n",
    "    result_list = []\n",
    "\n",
    "    temp_dict = {} # { (author, paper) => [f1, f2 ...] }\n",
    "    for ap_pair in author_paper_pairs:\n",
    "        temp_dict[ap_pair] = []\n",
    "\n",
    "    for i in range(len(ap_to_feature_list)):\n",
    "        feature_dict = ap_to_feature_list[i]\n",
    "        for ap_pair in author_paper_pairs:\n",
    "            feature = feature_dict[ap_pair]\n",
    "            temp_dict[ap_pair].append(feature)\n",
    "\n",
    "    for key in temp_dict.keys():\n",
    "        result_list.append(key + tuple( temp_dict[key] ))\n",
    "\n",
    "    return result_list\n",
    "\n",
    "def get_coauthor_aff(pa_data,pid):\n",
    "    related_authors = pa_data[pa_data['PaperId'] == pid]['Affiliation']\n",
    "    return related_authors\n",
    "\n",
    "def kamil_feature_11(dataset, author_paper_pairs):\n",
    "    feature_dict = {}\n",
    "    pa_data = dataset[\"paper_author\"]\n",
    "    print(author_paper_pairs[:2])\n",
    "    for ap in author_paper_pairs:\n",
    "        pa = ap[::-1]\n",
    "        print(\"PA pair\",pa)\n",
    "        paper_aff = pa_data[(pa_data[\"AuthorId\"] == pa[1]) & (pa_data[\"PaperId\"] == pa[0])][\"Affiliation\"].unique()\n",
    "        print(\"Paper aff--\",paper_aff,\"--\")\n",
    "        \n",
    "        ta_aff = \" \".join(pa_data[pa_data[\"AuthorId\"] == pa[1]][\"Affiliation\"].unique())\n",
    "        print(\"Target aff--\",ta_aff,\"--\")\n",
    "        coa_aff = get_coauthor_aff(pa_data, pa[0])\n",
    "        value = 0\n",
    "        for i,aff in enumerate(coa_aff):\n",
    "            if(aff != \"\"):\n",
    "                print(i,\"Co auth aff::\",aff,\"::\")\n",
    "                value += lcs(aff, ta_aff)\n",
    "        feature_dict[pa] = value\n",
    "        print(pa,\" has \",value)\n",
    "    return feature_dict\n",
    "\n",
    "def get_features(dataset, targetset):\n",
    "    author_paper_pairs = parse_targetset(targetset)\n",
    "\n",
    "    # Keep the format of f# (dictionary): { (a1, p1): feature_value1, (a2, p2): feature_value2 ... }\n",
    "    # Add your features here and add them to feature_list!\n",
    "    kamil_f1 = kamil_feature_2(dataset, author_paper_pairs)\n",
    "    kamil_list = [kamil_f1]\n",
    "    \n",
    "    thao_list,harry_list = [],[]\n",
    "    feature_list = harry_list + kamil_list + thao_list\n",
    "\n",
    "    result_list = generate_feature_list(author_paper_pairs, feature_list)\n",
    "    return result_list"
   ]
  },
  {
   "cell_type": "code",
   "execution_count": 103,
   "metadata": {
    "scrolled": false
   },
   "outputs": [
    {
     "name": "stdout",
     "output_type": "stream",
     "text": [
      "[(1539933, 1359549), (1455231, 467172)]\n",
      "PA pair (1359549, 1539933)\n",
      "Paper aff-- ['Hokkaido University' ''] --\n",
      "Target aff--  Hokkaido University Institute for Solid State Physics, University of Tokyo, Kashiwanoha 5-1-5, Kashiwa-shi, Chiba 277-8581, Japan Department of Physics, Faculty of Science, University of Tokyo, 7-3-1 Hongo, Bankyo-ku, Tokyo 113, Japan Institute for Solid State Physics, University of Tokyo, 5-1-5 Kashiwanoha, Kashiwa, 277-8581 Japan Institute for Solid State Physics University of Tokyo 5-1-5 Kashiwanoha 277-8581 Kashiwa Japan Dep. of Phys. Univ. of Tokyo, Tokyo 113, Japan Department of Physics, Faculty of Science, the University of Tokyo, Hongo, Bunkyo-ku, Tokyo 113-8654, Japan Institute for Solid State Physics University of Tokyo 5-1-5 Kashiwanona Kashiwa 277-8581 Japan --\n",
      "4 Co auth aff:: Hokkaido University ::\n",
      "(1359549, 1539933)  has  19.0\n",
      "PA pair (467172, 1455231)\n",
      "Paper aff-- ['Beijing Jiaotong University'\n",
      " 'Institute of Information Science|Beijing Jiaotong University'] --\n",
      "Target aff--  Beijing Jiaotong University Institute of Information Science|Beijing Jiaotong University Institute of Information Science, Beijing Jiaotong University, Beijing, 100044 China Department of Management Science and Information Systems|Rutgers Business School|Rutgers University Beijing University of Posts and Telecommunications State Key Lab of Networking and Switching Technology Beijing 100876 China Institute of Information Science, Beijing Jiaotong University, Beijing, 100044 P.R. China Beijing Jiaotong University Institute of Information Science China Department of Neurosurgery, Hua Shan Hospital, Fudan University, Shanghai Neurosurgical Center, Shanghai 200040, P.R. China Beijing Jiaotong University Institute of Information Science Beijing 100044 People’s Republic of China Institute of Information Science|Beijing Jiaotiong University Department of Management Science and Information Systems|Rutgers University|State University of New Jersey State Key|Laboratory of Networking and Switching Technology|Beijing University of Posts and Telecommunications Institute of Information Science|Northern Jiaotong University Rutgers Business School Department of Management Science and Information Systems, Rutgers University, Newark, NJ 07102, USA Institute of Information Science, Beijing Jiao Tong University, 100044 Beijing, P. R. China Department of Computer Science|Northwestern University Beijing Jiaotong University Institute of Information Science Beijing 100044 China Northwestern University|AT&T Labs Department of Neurosurgery, Huashan Hospital, Shanghai Medical College, Fudan University, Shanghai 200040, China Institute of information science|Beijing Jiaotong University Rutgers University Rutcor and Rutgers Business School 180 University Ave Newark 07102 USA Beijing Jiaotong University Institute of Information Science Beijing China Institute of Information Science, Beijing Jiaotong University, Beijing, China Neurosurgery Department of Huashan Hospital, Fudan University, Shanghai 200040, China Fudan University Department of Neurosurgery, Huashan Hospital Shanghai 200040 China Institute of Information Science Northern Jiaotong University Institute of Information Science Institute of Information Sciences, Beijing Jiaotong University, Beijing 100044, China Institute of Iiifoniiatioii Science|Beijiiig haotong University Institute of Information Science, Beijing Jiaotong University, P.R. China Neurosurgery Department, Huashan Hospital, Fudan University, 12 Wulumuqi Zhong Rd, Shanghai, 200040 China State Key|Lab of Networking and Switching Technology|Beijing University of Posts Beijing Jiaotong University Institute of Information Science Beijing 100044 China Beijing 100044 China Institute of Information Science, Beijing jiaotong University, Beijing, 100044 China State Key Lab|Beijing University of Posts Institute of Information Science, Beijing Jiaotong University, Beijing 100044 China China Fudan University Department of Neurosurgery, Huashan Hospital 200040 Shanghai China Department of Management Science and Information Systems, Rutgers University, Newark, New Jersey 08903 Institute of Wormation Science Northern Jiaotong University Communication Theory Group|Faculty of Information Technology and Systems|Delft University of Technology Institute of Information Science, Beijing Jiaotong University, Beijing, P.R. China Institute of lnformation Science|Northern Jiaotong University --\n",
      "0 Co auth aff:: Institute of Automation|Chinese Academy of Sciences ::\n",
      "1 Co auth aff:: Institute of Information Science|Beijing Jiaotong University ::\n",
      "2 Co auth aff:: Beijing Jiaotong University ::\n",
      "3 Co auth aff:: Institute of Information Science|Beijing Jiaotong University ::\n",
      "4 Co auth aff:: Beijing Jiaotong University (formerly Northern Jiaotong University) ::\n",
      "5 Co auth aff:: Institute of Information Science|Beijing Jiaotong University ::\n",
      "(467172, 1455231)  has  323.0\n",
      "PA pair (1791266, 1215636)\n",
      "Paper aff-- ['University at Buffalo'] --\n",
      "Target aff-- University at Buffalo  Department of Industrial and Manufacturing Systems Engineering|University of Texas at Arlington Cambridge Crystallographic Data Centre, 12 Union Road Cambridge CB2 1EZ, UK Center for Cognitive Science and NCGIA Department of Philosophy SUNY Buffalo NY 14260-1010 USA --\n",
      "1 Co auth aff:: State University of New York  ::\n",
      "3 Co auth aff:: University at Buffalo ::\n",
      "(1791266, 1215636)  has  46.0\n",
      "PA pair (1737961, 205278)\n",
      "Paper aff-- [''] --\n",
      "Target aff--  --\n",
      "(1737961, 205278)  has  0\n",
      "PA pair (1901940, 433821)\n",
      "Paper aff-- ['Lehigh University'\n",
      " 'Dept . of Computer Science and Engineering|Lehigh University'] --\n",
      "Target aff-- Lehigh University Department of Computer Science|State University of New Jersey Department of Computer Science|Rutgers University  Computer Science & Engineering|Lehigh University Department of Computer Science and Engineering|Lehigh University Dept . of Computer Science and Engineering|Lehigh University Department of Computer Science & Engineering|Lehigh University Lehigh University Department of Computer Science & Engineering USA Rutgers Univ., Piscataway, NJ Department of Computer Science and Engineering, Lehigh University, Bethlehem, Pennsylvania, USA Ursinus College, Department of Mathematics and Computer Science 601 Main St., Collegeville 1000 PA 19426 Pennsylvania Department of Computer Science and Engineering Microsoft Research Department of Computer Science | Rutgers University Computer Science & Engineering Dept|Lehigh University|Packard Lab Lehigh University Bethlehem PA USA Computer Science & Engineering Dept|Lehigh University Dept . of Computer Science & Engineering|Lehigh University --\n",
      "0 Co auth aff:: Lehigh University ::\n",
      "1 Co auth aff:: Dept . of Computer Science and Engineering|Lehigh University ::\n",
      "2 Co auth aff:: Dept . of Computer Science and Engineering|Lehigh University ::\n",
      "(1901940, 433821)  has  137.0\n"
     ]
    },
    {
     "data": {
      "text/plain": [
       "{(467172, 1455231): 323.0,\n",
       " (1359549, 1539933): 19.0,\n",
       " (1737961, 205278): 0,\n",
       " (1791266, 1215636): 46.0,\n",
       " (1901940, 433821): 137.0}"
      ]
     },
     "execution_count": 103,
     "metadata": {},
     "output_type": "execute_result"
    }
   ],
   "source": [
    "sample_l = [(1539933, 1359549), (1455231, 467172), (1215636, 1791266), (205278, 1737961), (433821, 1901940)]\n",
    "kamil_feature_11(dataset,sample_l)"
   ]
  },
  {
   "cell_type": "code",
   "execution_count": 21,
   "metadata": {},
   "outputs": [
    {
     "name": "stdout",
     "output_type": "stream",
     "text": [
      "[(1539933, 1359549), (1455231, 467172), (1215636, 1791266), (205278, 1737961), (433821, 1901940)]\n"
     ]
    },
    {
     "ename": "NameError",
     "evalue": "name 'pa_only' is not defined",
     "output_type": "error",
     "traceback": [
      "\u001b[1;31m---------------------------------------------------------------------------\u001b[0m",
      "\u001b[1;31mNameError\u001b[0m                                 Traceback (most recent call last)",
      "\u001b[1;32m<ipython-input-21-d94630072c50>\u001b[0m in \u001b[0;36m<module>\u001b[1;34m()\u001b[0m\n\u001b[1;32m----> 1\u001b[1;33m \u001b[0mfeatures_conf\u001b[0m \u001b[1;33m=\u001b[0m \u001b[0mget_features\u001b[0m\u001b[1;33m(\u001b[0m\u001b[0mdataset\u001b[0m\u001b[1;33m,\u001b[0m \u001b[0mtrain_confirmed\u001b[0m\u001b[1;33m)\u001b[0m\u001b[1;33m\u001b[0m\u001b[0m\n\u001b[0m\u001b[0;32m      2\u001b[0m \u001b[0mfeatures_conf\u001b[0m\u001b[1;33m[\u001b[0m\u001b[1;33m:\u001b[0m\u001b[1;36m5\u001b[0m\u001b[1;33m]\u001b[0m\u001b[1;33m\u001b[0m\u001b[0m\n\u001b[0;32m      3\u001b[0m \u001b[1;31m#train_confirmed.head()\u001b[0m\u001b[1;33m\u001b[0m\u001b[1;33m\u001b[0m\u001b[0m\n",
      "\u001b[1;32m<ipython-input-20-a46ecfc235ba>\u001b[0m in \u001b[0;36mget_features\u001b[1;34m(dataset, targetset)\u001b[0m\n\u001b[0;32m     30\u001b[0m     \u001b[1;31m# Keep the format of f# (dictionary): { (a1, p1): feature_value1, (a2, p2): feature_value2 ... }\u001b[0m\u001b[1;33m\u001b[0m\u001b[1;33m\u001b[0m\u001b[0m\n\u001b[0;32m     31\u001b[0m     \u001b[1;31m# Add your features here and add them to feature_list!\u001b[0m\u001b[1;33m\u001b[0m\u001b[1;33m\u001b[0m\u001b[0m\n\u001b[1;32m---> 32\u001b[1;33m     \u001b[0mkamil_f1\u001b[0m \u001b[1;33m=\u001b[0m \u001b[0mkamil_feature_2\u001b[0m\u001b[1;33m(\u001b[0m\u001b[0mdataset\u001b[0m\u001b[1;33m,\u001b[0m \u001b[0mauthor_paper_pairs\u001b[0m\u001b[1;33m)\u001b[0m\u001b[1;33m\u001b[0m\u001b[0m\n\u001b[0m\u001b[0;32m     33\u001b[0m     \u001b[0mkamil_list\u001b[0m \u001b[1;33m=\u001b[0m \u001b[1;33m[\u001b[0m\u001b[0mkamil_f1\u001b[0m\u001b[1;33m]\u001b[0m\u001b[1;33m\u001b[0m\u001b[0m\n\u001b[0;32m     34\u001b[0m \u001b[1;33m\u001b[0m\u001b[0m\n",
      "\u001b[1;32m<ipython-input-20-a46ecfc235ba>\u001b[0m in \u001b[0;36mkamil_feature_2\u001b[1;34m(dataset, author_paper_pairs)\u001b[0m\n\u001b[0;32m     22\u001b[0m     \u001b[0mprint\u001b[0m\u001b[1;33m(\u001b[0m\u001b[0mauthor_paper_pairs\u001b[0m\u001b[1;33m[\u001b[0m\u001b[1;33m:\u001b[0m\u001b[1;36m5\u001b[0m\u001b[1;33m]\u001b[0m\u001b[1;33m)\u001b[0m\u001b[1;33m\u001b[0m\u001b[0m\n\u001b[0;32m     23\u001b[0m     \u001b[1;32mfor\u001b[0m \u001b[0mpa\u001b[0m \u001b[1;32min\u001b[0m \u001b[0mauthor_paper_pairs\u001b[0m\u001b[1;33m:\u001b[0m\u001b[1;33m\u001b[0m\u001b[0m\n\u001b[1;32m---> 24\u001b[1;33m         \u001b[0mfeature_dict\u001b[0m\u001b[1;33m[\u001b[0m\u001b[0mpa\u001b[0m\u001b[1;33m]\u001b[0m \u001b[1;33m=\u001b[0m \u001b[0mfind_relation\u001b[0m\u001b[1;33m(\u001b[0m\u001b[0mint\u001b[0m\u001b[1;33m(\u001b[0m\u001b[0mpa\u001b[0m\u001b[1;33m[\u001b[0m\u001b[1;36m0\u001b[0m\u001b[1;33m]\u001b[0m\u001b[1;33m)\u001b[0m\u001b[1;33m,\u001b[0m\u001b[0mint\u001b[0m\u001b[1;33m(\u001b[0m\u001b[0mpa\u001b[0m\u001b[1;33m[\u001b[0m\u001b[1;36m1\u001b[0m\u001b[1;33m]\u001b[0m\u001b[1;33m)\u001b[0m\u001b[1;33m)\u001b[0m\u001b[1;33m\u001b[0m\u001b[0m\n\u001b[0m\u001b[0;32m     25\u001b[0m     \u001b[1;32mreturn\u001b[0m \u001b[0mfeature_dict\u001b[0m\u001b[1;33m\u001b[0m\u001b[0m\n\u001b[0;32m     26\u001b[0m \u001b[1;33m\u001b[0m\u001b[0m\n",
      "\u001b[1;32m<ipython-input-19-532fb5987de5>\u001b[0m in \u001b[0;36mfind_relation\u001b[1;34m(author_id, paper_id)\u001b[0m\n\u001b[0;32m      2\u001b[0m     \u001b[0mrelation_list\u001b[0m \u001b[1;33m=\u001b[0m \u001b[0mpd\u001b[0m\u001b[1;33m.\u001b[0m\u001b[0mDataFrame\u001b[0m\u001b[1;33m(\u001b[0m\u001b[1;33m)\u001b[0m\u001b[1;33m\u001b[0m\u001b[0m\n\u001b[0;32m      3\u001b[0m     \u001b[1;31m#find papers related to the author\u001b[0m\u001b[1;33m\u001b[0m\u001b[1;33m\u001b[0m\u001b[0m\n\u001b[1;32m----> 4\u001b[1;33m     \u001b[0mrelated_papers\u001b[0m \u001b[1;33m=\u001b[0m \u001b[0mpa_only\u001b[0m\u001b[1;33m[\u001b[0m\u001b[0mpa_only\u001b[0m\u001b[1;33m.\u001b[0m\u001b[0mAuthorId\u001b[0m \u001b[1;33m==\u001b[0m \u001b[0mauthor_id\u001b[0m\u001b[1;33m]\u001b[0m\u001b[1;33m[\u001b[0m\u001b[1;34m'PaperId'\u001b[0m\u001b[1;33m]\u001b[0m\u001b[1;33m.\u001b[0m\u001b[0munique\u001b[0m\u001b[1;33m(\u001b[0m\u001b[1;33m)\u001b[0m\u001b[1;33m\u001b[0m\u001b[0m\n\u001b[0m\u001b[0;32m      5\u001b[0m     \u001b[0mprint\u001b[0m\u001b[1;33m(\u001b[0m\u001b[1;34m\"# related papers:\"\u001b[0m\u001b[1;33m,\u001b[0m\u001b[0mrelated_papers\u001b[0m\u001b[1;33m.\u001b[0m\u001b[0mshape\u001b[0m\u001b[1;33m)\u001b[0m\u001b[1;33m\u001b[0m\u001b[0m\n\u001b[0;32m      6\u001b[0m \u001b[1;33m\u001b[0m\u001b[0m\n",
      "\u001b[1;31mNameError\u001b[0m: name 'pa_only' is not defined"
     ]
    }
   ],
   "source": [
    "features_conf = get_features(dataset, train_confirmed)\n",
    "features_conf[:5]\n",
    "#train_confirmed.head()"
   ]
  },
  {
   "cell_type": "code",
   "execution_count": 98,
   "metadata": {},
   "outputs": [
    {
     "data": {
      "text/plain": [
       "6.0"
      ]
     },
     "execution_count": 98,
     "metadata": {},
     "output_type": "execute_result"
    }
   ],
   "source": [
    "def lcs(X , Y):\n",
    "    # find the length of the strings\n",
    "    m = len(X)\n",
    "    n = len(Y)\n",
    " \n",
    "    # declaring the array for storing the dp values\n",
    "    L = np.zeros((m+1,n+1))\n",
    " \n",
    "    \"\"\"Following steps build L[m+1][n+1] in bottom up fashion\n",
    "    Note: L[i][j] contains length of LCS of X[0..i-1]\n",
    "    and Y[0..j-1]\"\"\"\n",
    "    for i in range(m+1):\n",
    "        for j in range(n+1):\n",
    "            if i == 0 or j == 0 :\n",
    "                L[i][j] = 0\n",
    "            elif X[i-1] == Y[j-1]:\n",
    "                L[i][j] = L[i-1][j-1]+1\n",
    "            else:\n",
    "                L[i][j] = max(L[i-1][j] , L[i][j-1])\n",
    " \n",
    "    # L[m][n] contains the length of LCS of X[0..n-1] & Y[0..m-1]\n",
    "    return L[m][n]\n",
    "lcs(\"ababababababababb\",\"bbbbbb\")"
   ]
  },
  {
   "cell_type": "code",
   "execution_count": 34,
   "metadata": {},
   "outputs": [],
   "source": [
    "def find_relation(author_id,paper_id):\n",
    "    relation_list = pd.DataFrame()\n",
    "    paper_author = dataset['paper_author']\n",
    "    pa_only = dataset['paper_author'][['PaperId','AuthorId']]\n",
    "    #find papers related to the author\n",
    "    related_papers = pa_only[pa_only.AuthorId == author_id]['PaperId'].unique()\n",
    "    print(\"# related papers:\",related_papers.shape)\n",
    "    \n",
    "    #find authors related to the paper\n",
    "    related_authors = paper_author[paper_author['PaperId'] == paper_id]['AuthorId'].unique()\n",
    "    print(\"# related authors:\",related_authors.shape)\n",
    "    \n",
    "    #remove target paper and target author from lists\n",
    "    related_papers = np.delete(related_papers,np.argwhere(related_papers == paper_id))\n",
    "    related_authors = np.delete(related_authors, np.argwhere(related_authors == author_id))\n",
    "    \n",
    "    print(\"# related papers:\",related_papers.shape)\n",
    "    print(\"# related authors:\",related_authors.shape)\n",
    "    cnt = 0\n",
    "    for author in related_authors:\n",
    "        for paper in related_papers:\n",
    "            single_relation = pa_only[(pa_only['PaperId'] == paper) & (pa_only['AuthorId'] == author)]\n",
    "            cnt += single_relation.size\n",
    "            \n",
    "    print(author_id,paper_id,\"->\",cnt)\n",
    "    \n",
    "    return cnt\n"
   ]
  },
  {
   "cell_type": "code",
   "execution_count": 35,
   "metadata": {},
   "outputs": [
    {
     "name": "stdout",
     "output_type": "stream",
     "text": [
      "# related papers: (92,)\n",
      "# related authors: (6,)\n",
      "# related papers: (91,)\n",
      "# related authors: (5,)\n",
      "826 25733 -> 96\n",
      "Wall time: 29.6 s\n"
     ]
    },
    {
     "data": {
      "text/plain": [
       "96"
      ]
     },
     "execution_count": 35,
     "metadata": {},
     "output_type": "execute_result"
    }
   ],
   "source": [
    "%time find_relation(826,25733)"
   ]
  },
  {
   "cell_type": "code",
   "execution_count": null,
   "metadata": {
    "collapsed": true
   },
   "outputs": [],
   "source": []
  }
 ],
 "metadata": {
  "kernelspec": {
   "display_name": "Python 3",
   "language": "python",
   "name": "python3"
  },
  "language_info": {
   "codemirror_mode": {
    "name": "ipython",
    "version": 3
   },
   "file_extension": ".py",
   "mimetype": "text/x-python",
   "name": "python",
   "nbconvert_exporter": "python",
   "pygments_lexer": "ipython3",
   "version": "3.6.3"
  }
 },
 "nbformat": 4,
 "nbformat_minor": 1
}
