{
 "cells": [
  {
   "cell_type": "code",
   "execution_count": 1,
   "metadata": {
    "collapsed": true
   },
   "outputs": [],
   "source": [
    "import pandas as pd\n",
    "import numpy as np\n",
    "from IPython.display import display, HTML"
   ]
  },
  {
   "cell_type": "code",
   "execution_count": 2,
   "metadata": {
    "collapsed": false
   },
   "outputs": [],
   "source": [
    "paper = pd.read_csv('dataRev2/Paper.csv')"
   ]
  },
  {
   "cell_type": "code",
   "execution_count": 3,
   "metadata": {
    "collapsed": true
   },
   "outputs": [],
   "source": [
    "author = pd.read_csv('dataRev2/Author.csv')"
   ]
  },
  {
   "cell_type": "code",
   "execution_count": 26,
   "metadata": {
    "collapsed": true
   },
   "outputs": [],
   "source": [
    "paper_author = pd.read_csv('dataRev2/PaperAuthor.csv')"
   ]
  },
  {
   "cell_type": "code",
   "execution_count": 27,
   "metadata": {
    "collapsed": false
   },
   "outputs": [
    {
     "data": {
      "text/html": [
       "<div>\n",
       "<style>\n",
       "    .dataframe thead tr:only-child th {\n",
       "        text-align: right;\n",
       "    }\n",
       "\n",
       "    .dataframe thead th {\n",
       "        text-align: left;\n",
       "    }\n",
       "\n",
       "    .dataframe tbody tr th {\n",
       "        vertical-align: top;\n",
       "    }\n",
       "</style>\n",
       "<table border=\"1\" class=\"dataframe\">\n",
       "  <thead>\n",
       "    <tr style=\"text-align: right;\">\n",
       "      <th></th>\n",
       "      <th>PaperId</th>\n",
       "      <th>AuthorId</th>\n",
       "      <th>Name</th>\n",
       "      <th>Affiliation</th>\n",
       "    </tr>\n",
       "  </thead>\n",
       "  <tbody>\n",
       "    <tr>\n",
       "      <th>0</th>\n",
       "      <td>1</td>\n",
       "      <td>521630</td>\n",
       "      <td>Ayman Kaheel</td>\n",
       "      <td>Cairo Microsoft Innovation Lab</td>\n",
       "    </tr>\n",
       "    <tr>\n",
       "      <th>1</th>\n",
       "      <td>1</td>\n",
       "      <td>972575</td>\n",
       "      <td>Mahmoud Refaat</td>\n",
       "      <td>Cairo Microsoft Innovation Lab</td>\n",
       "    </tr>\n",
       "    <tr>\n",
       "      <th>2</th>\n",
       "      <td>1</td>\n",
       "      <td>1528710</td>\n",
       "      <td>Ahmed Abdul-hamid</td>\n",
       "      <td>Cairo Microsoft Innovation Lab</td>\n",
       "    </tr>\n",
       "    <tr>\n",
       "      <th>3</th>\n",
       "      <td>1</td>\n",
       "      <td>1611750</td>\n",
       "      <td>Motaz Ahmad El-saban</td>\n",
       "      <td>Cairo Microsoft Innovation Lab</td>\n",
       "    </tr>\n",
       "    <tr>\n",
       "      <th>4</th>\n",
       "      <td>2</td>\n",
       "      <td>1682088</td>\n",
       "      <td>Julio D. Rossi</td>\n",
       "      <td>Departamento Matemática, FCEyN UBA (1428) Buen...</td>\n",
       "    </tr>\n",
       "  </tbody>\n",
       "</table>\n",
       "</div>"
      ],
      "text/plain": [
       "   PaperId  AuthorId                  Name  \\\n",
       "0        1    521630          Ayman Kaheel   \n",
       "1        1    972575        Mahmoud Refaat   \n",
       "2        1   1528710     Ahmed Abdul-hamid   \n",
       "3        1   1611750  Motaz Ahmad El-saban   \n",
       "4        2   1682088        Julio D. Rossi   \n",
       "\n",
       "                                         Affiliation  \n",
       "0                     Cairo Microsoft Innovation Lab  \n",
       "1                     Cairo Microsoft Innovation Lab  \n",
       "2                     Cairo Microsoft Innovation Lab  \n",
       "3                     Cairo Microsoft Innovation Lab  \n",
       "4  Departamento Matemática, FCEyN UBA (1428) Buen...  "
      ]
     },
     "execution_count": 27,
     "metadata": {},
     "output_type": "execute_result"
    }
   ],
   "source": [
    "paper_author.head()"
   ]
  },
  {
   "cell_type": "code",
   "execution_count": 29,
   "metadata": {
    "collapsed": false
   },
   "outputs": [],
   "source": [
    "pa_only = paper_author[['PaperId','AuthorId']]"
   ]
  },
  {
   "cell_type": "code",
   "execution_count": 48,
   "metadata": {
    "collapsed": false
   },
   "outputs": [
    {
     "name": "stdout",
     "output_type": "stream",
     "text": [
      "# related papers: (92,)\n",
      "# related authors: (6,)\n",
      "# related papers: (91,)\n",
      "# related authors: (5,)\n",
      "(1, 4)\n",
      "(1,)\n"
     ]
    },
    {
     "data": {
      "text/html": [
       "<div>\n",
       "<style>\n",
       "    .dataframe thead tr:only-child th {\n",
       "        text-align: right;\n",
       "    }\n",
       "\n",
       "    .dataframe thead th {\n",
       "        text-align: left;\n",
       "    }\n",
       "\n",
       "    .dataframe tbody tr th {\n",
       "        vertical-align: top;\n",
       "    }\n",
       "</style>\n",
       "<table border=\"1\" class=\"dataframe\">\n",
       "  <thead>\n",
       "    <tr style=\"text-align: right;\">\n",
       "      <th></th>\n",
       "      <th>PaperId</th>\n",
       "      <th>AuthorId</th>\n",
       "      <th>Name</th>\n",
       "      <th>Affiliation</th>\n",
       "    </tr>\n",
       "  </thead>\n",
       "  <tbody>\n",
       "    <tr>\n",
       "      <th>515384</th>\n",
       "      <td>87141</td>\n",
       "      <td>788465</td>\n",
       "      <td>Francisco E. Baralle</td>\n",
       "      <td>NaN</td>\n",
       "    </tr>\n",
       "  </tbody>\n",
       "</table>\n",
       "</div>"
      ],
      "text/plain": [
       "        PaperId  AuthorId                  Name Affiliation\n",
       "515384    87141    788465  Francisco E. Baralle         NaN"
      ]
     },
     "metadata": {},
     "output_type": "execute_result"
    },
    {
     "name": "stdout",
     "output_type": "stream",
     "text": [
      "# related papers: (92,)\n",
      "# related authors: (4,)\n",
      "# related papers: (91,)\n",
      "# related authors: (3,)\n",
      "(1, 4)\n",
      "(1,)\n"
     ]
    },
    {
     "data": {
      "text/html": [
       "<div>\n",
       "<style>\n",
       "    .dataframe thead tr:only-child th {\n",
       "        text-align: right;\n",
       "    }\n",
       "\n",
       "    .dataframe thead th {\n",
       "        text-align: left;\n",
       "    }\n",
       "\n",
       "    .dataframe tbody tr th {\n",
       "        vertical-align: top;\n",
       "    }\n",
       "</style>\n",
       "<table border=\"1\" class=\"dataframe\">\n",
       "  <thead>\n",
       "    <tr style=\"text-align: right;\">\n",
       "      <th></th>\n",
       "      <th>PaperId</th>\n",
       "      <th>AuthorId</th>\n",
       "      <th>Name</th>\n",
       "      <th>Affiliation</th>\n",
       "    </tr>\n",
       "  </thead>\n",
       "  <tbody>\n",
       "    <tr>\n",
       "      <th>622586</th>\n",
       "      <td>104556</td>\n",
       "      <td>366653</td>\n",
       "      <td>Cristiana Stuani</td>\n",
       "      <td>International Centre for Genetic Engineering a...</td>\n",
       "    </tr>\n",
       "  </tbody>\n",
       "</table>\n",
       "</div>"
      ],
      "text/plain": [
       "        PaperId  AuthorId              Name  \\\n",
       "622586   104556    366653  Cristiana Stuani   \n",
       "\n",
       "                                              Affiliation  \n",
       "622586  International Centre for Genetic Engineering a...  "
      ]
     },
     "metadata": {},
     "output_type": "execute_result"
    },
    {
     "name": "stdout",
     "output_type": "stream",
     "text": [
      "# related papers: (92,)\n",
      "# related authors: (4,)\n",
      "# related papers: (91,)\n",
      "# related authors: (3,)\n",
      "(3, 4)\n",
      "(3,)\n"
     ]
    },
    {
     "data": {
      "text/html": [
       "<div>\n",
       "<style>\n",
       "    .dataframe thead tr:only-child th {\n",
       "        text-align: right;\n",
       "    }\n",
       "\n",
       "    .dataframe thead th {\n",
       "        text-align: left;\n",
       "    }\n",
       "\n",
       "    .dataframe tbody tr th {\n",
       "        vertical-align: top;\n",
       "    }\n",
       "</style>\n",
       "<table border=\"1\" class=\"dataframe\">\n",
       "  <thead>\n",
       "    <tr style=\"text-align: right;\">\n",
       "      <th></th>\n",
       "      <th>PaperId</th>\n",
       "      <th>AuthorId</th>\n",
       "      <th>Name</th>\n",
       "      <th>Affiliation</th>\n",
       "    </tr>\n",
       "  </thead>\n",
       "  <tbody>\n",
       "    <tr>\n",
       "      <th>1339712</th>\n",
       "      <td>228773</td>\n",
       "      <td>610702</td>\n",
       "      <td>Natasa Skoko</td>\n",
       "      <td>NaN</td>\n",
       "    </tr>\n",
       "    <tr>\n",
       "      <th>1339714</th>\n",
       "      <td>228773</td>\n",
       "      <td>1380820</td>\n",
       "      <td>Marco Baralle</td>\n",
       "      <td>NaN</td>\n",
       "    </tr>\n",
       "    <tr>\n",
       "      <th>1339715</th>\n",
       "      <td>228773</td>\n",
       "      <td>1486245</td>\n",
       "      <td>Sergio Tisminetzky</td>\n",
       "      <td>NaN</td>\n",
       "    </tr>\n",
       "  </tbody>\n",
       "</table>\n",
       "</div>"
      ],
      "text/plain": [
       "         PaperId  AuthorId                Name Affiliation\n",
       "1339712   228773    610702        Natasa Skoko         NaN\n",
       "1339714   228773   1380820       Marco Baralle         NaN\n",
       "1339715   228773   1486245  Sergio Tisminetzky         NaN"
      ]
     },
     "metadata": {},
     "output_type": "execute_result"
    },
    {
     "ename": "TypeError",
     "evalue": "'set' object is not subscriptable",
     "traceback": [
      "\u001b[0;31m---------------------------------------------------------------------------\u001b[0m",
      "\u001b[0;31mTypeError\u001b[0m                                 Traceback (most recent call last)",
      "\u001b[0;32m<ipython-input-48-f48c5b0c5043>\u001b[0m in \u001b[0;36m<module>\u001b[0;34m()\u001b[0m\n\u001b[1;32m     39\u001b[0m \u001b[1;33m\u001b[0m\u001b[0m\n\u001b[1;32m     40\u001b[0m \u001b[1;32mfor\u001b[0m \u001b[0md\u001b[0m \u001b[1;32min\u001b[0m \u001b[0md_list\u001b[0m\u001b[1;33m:\u001b[0m\u001b[1;33m\u001b[0m\u001b[0m\n\u001b[0;32m---> 41\u001b[0;31m     \u001b[0mauthor\u001b[0m\u001b[1;33m,\u001b[0m\u001b[0mconfirmed\u001b[0m \u001b[1;33m=\u001b[0m \u001b[0md\u001b[0m\u001b[1;33m[\u001b[0m\u001b[1;34m\"author\"\u001b[0m\u001b[1;33m]\u001b[0m\u001b[1;33m,\u001b[0m\u001b[0md\u001b[0m\u001b[1;33m[\u001b[0m\u001b[1;34m\"confirmed\"\u001b[0m\u001b[1;33m]\u001b[0m\u001b[1;33m\u001b[0m\u001b[0m\n\u001b[0m\u001b[1;32m     42\u001b[0m     \u001b[1;32mfor\u001b[0m \u001b[0mx\u001b[0m \u001b[1;32min\u001b[0m \u001b[0mconfirmed\u001b[0m\u001b[1;33m.\u001b[0m\u001b[0msplit\u001b[0m\u001b[1;33m(\u001b[0m\u001b[1;33m)\u001b[0m\u001b[1;33m:\u001b[0m\u001b[1;33m\u001b[0m\u001b[0m\n\u001b[1;32m     43\u001b[0m         \u001b[0mtmp\u001b[0m \u001b[1;33m=\u001b[0m \u001b[0mfind_relation\u001b[0m\u001b[1;33m(\u001b[0m\u001b[0mint\u001b[0m\u001b[1;33m(\u001b[0m\u001b[0mauthor\u001b[0m\u001b[1;33m)\u001b[0m\u001b[1;33m,\u001b[0m\u001b[0mint\u001b[0m\u001b[1;33m(\u001b[0m\u001b[0mx\u001b[0m\u001b[1;33m)\u001b[0m\u001b[1;33m)\u001b[0m\u001b[1;33m\u001b[0m\u001b[0m\n",
      "\u001b[0;31mTypeError\u001b[0m: 'set' object is not subscriptable"
     ],
     "output_type": "error"
    }
   ],
   "source": [
    "def find_relation(author_id,paper_id):\n",
    "    relation_list = pd.DataFrame()\n",
    "    #find papers related to the author\n",
    "    related_papers = pa_only[pa_only.AuthorId == author_id]['PaperId'].unique()\n",
    "    print(\"# related papers:\",related_papers.shape)\n",
    "    \n",
    "    #find authors related to the paper\n",
    "    related_authors = paper_author[paper_author['PaperId'] == paper_id]['AuthorId'].unique()\n",
    "    print(\"# related authors:\",related_authors.shape)\n",
    "    \n",
    "    #remove target paper and target author from lists\n",
    "    related_papers = np.delete(related_papers,np.argwhere(related_papers == paper_id))\n",
    "    related_authors = np.delete(related_authors, np.argwhere(related_authors == author_id))\n",
    "    \n",
    "    print(\"# related papers:\",related_papers.shape)\n",
    "    print(\"# related authors:\",related_authors.shape)\n",
    "    cnt = 0\n",
    "    for author in related_authors:\n",
    "        for paper in related_papers:\n",
    "            single_relation = paper_author[(paper_author['PaperId'] == paper) & (paper_author['AuthorId'] == author)]\n",
    "            if(single_relation.size > 0):\n",
    "                #display(single_relation)\n",
    "                relation_list = relation_list.append(single_relation)\n",
    "                break\n",
    "        \"\"\"\n",
    "        cnt += 1\n",
    "        if cnt> 55:\n",
    "            break\n",
    "        \"\"\"\n",
    "    print(relation_list.shape)\n",
    "    print(relation_list['AuthorId'].shape)\n",
    "    \n",
    "    return relation_list\n",
    "\n",
    "#target author, target paper\n",
    "d_list = [{\"author\" : \"826\", \"confirmed\" : \"25733 47276 77012\"},\n",
    "          {\"author\" : \"1118\",\"confirmed\" : \"49963 93433 341015 415282\"}\n",
    "         ]\n",
    "\n",
    "for d in d_list:\n",
    "    author,confirmed = d[\"author\"],d[\"confirmed\"]\n",
    "    for x in confirmed.split():\n",
    "        tmp = find_relation(int(author),int(x))\n",
    "        display(tmp)\n",
    "        l.append(tmp)"
   ]
  },
  {
   "cell_type": "code",
   "execution_count": 33,
   "metadata": {
    "collapsed": false
   },
   "outputs": [
    {
     "name": "stdout",
     "output_type": "stream",
     "text": [
      "# related papers: (92,)\n",
      "# related authors: (6,)\n",
      "# related papers: (91,)\n",
      "# related authors: (5,)\n",
      "(1, 4)\n",
      "(1,)\n",
      "# related papers: (92,)\n",
      "# related authors: (6,)\n",
      "# related papers: (91,)\n",
      "# related authors: (5,)\n",
      "(1, 4)\n",
      "(1,)\n",
      "# related papers: (92,)\n",
      "# related authors: (6,)\n",
      "# related papers: (91,)\n",
      "# related authors: (5,)\n",
      "(1, 4)\n",
      "(1,)\n",
      "# related papers: (92,)\n",
      "# related authors: (6,)\n",
      "# related papers: (91,)\n",
      "# related authors: (5,)\n",
      "(1, 4)\n",
      "(1,)\n",
      "1 loop, best of 3: 24 s per loop\n"
     ]
    }
   ],
   "source": [
    "%timeit find_relation(826,25733)"
   ]
  },
  {
   "cell_type": "code",
   "execution_count": null,
   "metadata": {
    "collapsed": true
   },
   "outputs": [],
   "source": [
    ""
   ]
  }
 ],
 "metadata": {
  "kernelspec": {
   "display_name": "Python 3",
   "language": "python",
   "name": "python3"
  },
  "language_info": {
   "codemirror_mode": {
    "name": "ipython",
    "version": 3.0
   },
   "file_extension": ".py",
   "mimetype": "text/x-python",
   "name": "python",
   "nbconvert_exporter": "python",
   "pygments_lexer": "ipython3",
   "version": "3.6.1"
  }
 },
 "nbformat": 4,
 "nbformat_minor": 0
}