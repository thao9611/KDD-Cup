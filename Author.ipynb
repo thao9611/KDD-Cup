{
 "cells": [
  {
   "cell_type": "code",
   "execution_count": 2,
   "metadata": {
    "collapsed": false,
    "scrolled": true
   },
   "outputs": [],
   "source": [
    "import pandas as pd\n",
    "import numpy\n",
    "import string\n",
    "from nltk.corpus import stopwords\n",
    "from nltk.tokenize import word_tokenize\n",
    "from nltk.stem.porter import PorterStemmer\n",
    "stopword = set(stopwords.words('english'))\n",
    "porter = PorterStemmer()\n",
    "pa = pd.read_csv(r'C:/Users/Admin/Downloads/KDD-Cup/dataRev/PaperAuthor1.csv')"
   ]
  },
  {
   "cell_type": "code",
   "execution_count": 3,
   "metadata": {
    "collapsed": false
   },
   "outputs": [
    {
     "data": {
      "text/html": [
       "<div>\n",
       "<table border=\"1\" class=\"dataframe\">\n",
       "  <thead>\n",
       "    <tr style=\"text-align: right;\">\n",
       "      <th></th>\n",
       "      <th>PaperId</th>\n",
       "      <th>AuthorId</th>\n",
       "      <th>Name</th>\n",
       "      <th>Affiliation</th>\n",
       "    </tr>\n",
       "  </thead>\n",
       "  <tbody>\n",
       "    <tr>\n",
       "      <th>0</th>\n",
       "      <td>1</td>\n",
       "      <td>521630</td>\n",
       "      <td>Ayman Kaheel</td>\n",
       "      <td>Cairo Microsoft Innovation Lab</td>\n",
       "    </tr>\n",
       "    <tr>\n",
       "      <th>1</th>\n",
       "      <td>1</td>\n",
       "      <td>972575</td>\n",
       "      <td>Mahmoud Refaat</td>\n",
       "      <td>Cairo Microsoft Innovation Lab</td>\n",
       "    </tr>\n",
       "    <tr>\n",
       "      <th>2</th>\n",
       "      <td>1</td>\n",
       "      <td>1528710</td>\n",
       "      <td>Ahmed Abdul-hamid</td>\n",
       "      <td>Cairo Microsoft Innovation Lab</td>\n",
       "    </tr>\n",
       "    <tr>\n",
       "      <th>3</th>\n",
       "      <td>1</td>\n",
       "      <td>1611750</td>\n",
       "      <td>Motaz Ahmad El-saban</td>\n",
       "      <td>Cairo Microsoft Innovation Lab</td>\n",
       "    </tr>\n",
       "    <tr>\n",
       "      <th>4</th>\n",
       "      <td>2</td>\n",
       "      <td>1682088</td>\n",
       "      <td>Julio D. Rossi</td>\n",
       "      <td>Departamento MatemÃ¡tica, FCEyN UBA (1428) Bue...</td>\n",
       "    </tr>\n",
       "  </tbody>\n",
       "</table>\n",
       "</div>"
      ],
      "text/plain": [
       "   PaperId  AuthorId                  Name  \\\n",
       "0        1    521630          Ayman Kaheel   \n",
       "1        1    972575        Mahmoud Refaat   \n",
       "2        1   1528710     Ahmed Abdul-hamid   \n",
       "3        1   1611750  Motaz Ahmad El-saban   \n",
       "4        2   1682088        Julio D. Rossi   \n",
       "\n",
       "                                         Affiliation  \n",
       "0                     Cairo Microsoft Innovation Lab  \n",
       "1                     Cairo Microsoft Innovation Lab  \n",
       "2                     Cairo Microsoft Innovation Lab  \n",
       "3                     Cairo Microsoft Innovation Lab  \n",
       "4  Departamento MatemÃ¡tica, FCEyN UBA (1428) Bue...  "
      ]
     },
     "execution_count": 3,
     "metadata": {},
     "output_type": "execute_result"
    }
   ],
   "source": [
    "pa['Affiliation'] = pa['Affiliation'].fillna(\"\")\n",
    "pa.head()"
   ]
  },
  {
   "cell_type": "code",
   "execution_count": 11,
   "metadata": {
    "collapsed": false
   },
   "outputs": [
    {
     "data": {
      "text/html": [
       "<div>\n",
       "<table border=\"1\" class=\"dataframe\">\n",
       "  <thead>\n",
       "    <tr style=\"text-align: right;\">\n",
       "      <th></th>\n",
       "      <th></th>\n",
       "      <th>Affiliation</th>\n",
       "    </tr>\n",
       "    <tr>\n",
       "      <th>PaperId</th>\n",
       "      <th>AuthorId</th>\n",
       "      <th></th>\n",
       "    </tr>\n",
       "  </thead>\n",
       "  <tbody>\n",
       "    <tr>\n",
       "      <th rowspan=\"4\" valign=\"top\">1</th>\n",
       "      <th>521630</th>\n",
       "      <td>1</td>\n",
       "    </tr>\n",
       "    <tr>\n",
       "      <th>972575</th>\n",
       "      <td>1</td>\n",
       "    </tr>\n",
       "    <tr>\n",
       "      <th>1528710</th>\n",
       "      <td>1</td>\n",
       "    </tr>\n",
       "    <tr>\n",
       "      <th>1611750</th>\n",
       "      <td>1</td>\n",
       "    </tr>\n",
       "    <tr>\n",
       "      <th>2</th>\n",
       "      <th>1682088</th>\n",
       "      <td>1</td>\n",
       "    </tr>\n",
       "  </tbody>\n",
       "</table>\n",
       "</div>"
      ],
      "text/plain": [
       "                  Affiliation\n",
       "PaperId AuthorId             \n",
       "1       521630              1\n",
       "        972575              1\n",
       "        1528710             1\n",
       "        1611750             1\n",
       "2       1682088             1"
      ]
     },
     "execution_count": 11,
     "metadata": {},
     "output_type": "execute_result"
    }
   ],
   "source": [
    "pa_1 = pd.DataFrame(pd.pivot_table(pa,values = \"Affiliation\",index = ['PaperId',\"AuthorId\"], aggfunc = \"count\"))\n",
    "\n",
    "pa_1.head()"
   ]
  },
  {
   "cell_type": "code",
   "execution_count": 12,
   "metadata": {
    "collapsed": false
   },
   "outputs": [
    {
     "data": {
      "text/plain": [
       "(1961,)"
      ]
     },
     "execution_count": 12,
     "metadata": {},
     "output_type": "execute_result"
    }
   ],
   "source": [
    "pa_1['Affiliation'].shape"
   ]
  },
  {
   "cell_type": "code",
   "execution_count": 16,
   "metadata": {
    "collapsed": false
   },
   "outputs": [],
   "source": [
    "pa_2 =  pd.DataFrame(pd.pivot_table(pa,values = \"Affiliation\",index = ['PaperId',\"AuthorId\"], aggfunc = \"sum\"))\n",
    "#list(pa_2['Affiliation'])"
   ]
  },
  {
   "cell_type": "code",
   "execution_count": 17,
   "metadata": {
    "collapsed": true
   },
   "outputs": [],
   "source": [
    "pa_1['Affiliation_1'] = list(pa_2['Affiliation'])"
   ]
  },
  {
   "cell_type": "code",
   "execution_count": 18,
   "metadata": {
    "collapsed": false
   },
   "outputs": [
    {
     "data": {
      "text/html": [
       "<div>\n",
       "<table border=\"1\" class=\"dataframe\">\n",
       "  <thead>\n",
       "    <tr style=\"text-align: right;\">\n",
       "      <th></th>\n",
       "      <th></th>\n",
       "      <th>Affiliation</th>\n",
       "      <th>Affiliation_1</th>\n",
       "    </tr>\n",
       "    <tr>\n",
       "      <th>PaperId</th>\n",
       "      <th>AuthorId</th>\n",
       "      <th></th>\n",
       "      <th></th>\n",
       "    </tr>\n",
       "  </thead>\n",
       "  <tbody>\n",
       "    <tr>\n",
       "      <th rowspan=\"4\" valign=\"top\">1</th>\n",
       "      <th>521630</th>\n",
       "      <td>1</td>\n",
       "      <td>Cairo Microsoft Innovation Lab</td>\n",
       "    </tr>\n",
       "    <tr>\n",
       "      <th>972575</th>\n",
       "      <td>1</td>\n",
       "      <td>Cairo Microsoft Innovation Lab</td>\n",
       "    </tr>\n",
       "    <tr>\n",
       "      <th>1528710</th>\n",
       "      <td>1</td>\n",
       "      <td>Cairo Microsoft Innovation Lab</td>\n",
       "    </tr>\n",
       "    <tr>\n",
       "      <th>1611750</th>\n",
       "      <td>1</td>\n",
       "      <td>Cairo Microsoft Innovation Lab</td>\n",
       "    </tr>\n",
       "    <tr>\n",
       "      <th>2</th>\n",
       "      <th>1682088</th>\n",
       "      <td>1</td>\n",
       "      <td>Departamento MatemÃ¡tica, FCEyN UBA (1428) Bue...</td>\n",
       "    </tr>\n",
       "  </tbody>\n",
       "</table>\n",
       "</div>"
      ],
      "text/plain": [
       "                  Affiliation  \\\n",
       "PaperId AuthorId                \n",
       "1       521630              1   \n",
       "        972575              1   \n",
       "        1528710             1   \n",
       "        1611750             1   \n",
       "2       1682088             1   \n",
       "\n",
       "                                                      Affiliation_1  \n",
       "PaperId AuthorId                                                     \n",
       "1       521630                       Cairo Microsoft Innovation Lab  \n",
       "        972575                       Cairo Microsoft Innovation Lab  \n",
       "        1528710                      Cairo Microsoft Innovation Lab  \n",
       "        1611750                      Cairo Microsoft Innovation Lab  \n",
       "2       1682088   Departamento MatemÃ¡tica, FCEyN UBA (1428) Bue...  "
      ]
     },
     "execution_count": 18,
     "metadata": {},
     "output_type": "execute_result"
    }
   ],
   "source": [
    "pa_1.head()"
   ]
  },
  {
   "cell_type": "code",
   "execution_count": 27,
   "metadata": {
    "collapsed": false
   },
   "outputs": [
    {
     "data": {
      "text/plain": [
       "Affiliation                                   1\n",
       "Affiliation_1    Cairo Microsoft Innovation Lab\n",
       "Name: 521630, dtype: object"
      ]
     },
     "execution_count": 27,
     "metadata": {},
     "output_type": "execute_result"
    }
   ],
   "source": [
    "pa_1.loc[1].loc[521630]"
   ]
  },
  {
   "cell_type": "code",
   "execution_count": 28,
   "metadata": {
    "collapsed": false
   },
   "outputs": [
    {
     "data": {
      "text/html": [
       "<div>\n",
       "<table border=\"1\" class=\"dataframe\">\n",
       "  <thead>\n",
       "    <tr style=\"text-align: right;\">\n",
       "      <th></th>\n",
       "      <th></th>\n",
       "      <th>Count</th>\n",
       "      <th>Affiliation</th>\n",
       "    </tr>\n",
       "    <tr>\n",
       "      <th>PaperId</th>\n",
       "      <th>AuthorId</th>\n",
       "      <th></th>\n",
       "      <th></th>\n",
       "    </tr>\n",
       "  </thead>\n",
       "  <tbody>\n",
       "    <tr>\n",
       "      <th rowspan=\"4\" valign=\"top\">1</th>\n",
       "      <th>521630</th>\n",
       "      <td>1</td>\n",
       "      <td>Cairo Microsoft Innovation Lab</td>\n",
       "    </tr>\n",
       "    <tr>\n",
       "      <th>972575</th>\n",
       "      <td>1</td>\n",
       "      <td>Cairo Microsoft Innovation Lab</td>\n",
       "    </tr>\n",
       "    <tr>\n",
       "      <th>1528710</th>\n",
       "      <td>1</td>\n",
       "      <td>Cairo Microsoft Innovation Lab</td>\n",
       "    </tr>\n",
       "    <tr>\n",
       "      <th>1611750</th>\n",
       "      <td>1</td>\n",
       "      <td>Cairo Microsoft Innovation Lab</td>\n",
       "    </tr>\n",
       "    <tr>\n",
       "      <th>2</th>\n",
       "      <th>1682088</th>\n",
       "      <td>1</td>\n",
       "      <td>Departamento MatemÃ¡tica, FCEyN UBA (1428) Bue...</td>\n",
       "    </tr>\n",
       "  </tbody>\n",
       "</table>\n",
       "</div>"
      ],
      "text/plain": [
       "                  Count                                        Affiliation\n",
       "PaperId AuthorId                                                          \n",
       "1       521630        1                     Cairo Microsoft Innovation Lab\n",
       "        972575        1                     Cairo Microsoft Innovation Lab\n",
       "        1528710       1                     Cairo Microsoft Innovation Lab\n",
       "        1611750       1                     Cairo Microsoft Innovation Lab\n",
       "2       1682088       1  Departamento MatemÃ¡tica, FCEyN UBA (1428) Bue..."
      ]
     },
     "execution_count": 28,
     "metadata": {},
     "output_type": "execute_result"
    }
   ],
   "source": [
    "pa_1= pa_1.rename(columns={\"Affiliation\":\"Count\",\"Affiliation_1\":\"Affiliation\"})\n",
    "pa_1.head()"
   ]
  },
  {
   "cell_type": "code",
   "execution_count": null,
   "metadata": {
    "collapsed": true
   },
   "outputs": [],
   "source": [
    ""
   ]
  }
 ],
 "metadata": {
  "anaconda-cloud": {},
  "kernelspec": {
   "display_name": "Python [conda root]",
   "language": "python",
   "name": "conda-root-py"
  },
  "language_info": {
   "codemirror_mode": {
    "name": "ipython",
    "version": 3.0
   },
   "file_extension": ".py",
   "mimetype": "text/x-python",
   "name": "python",
   "nbconvert_exporter": "python",
   "pygments_lexer": "ipython3",
   "version": "3.5.2"
  }
 },
 "nbformat": 4,
 "nbformat_minor": 0
}