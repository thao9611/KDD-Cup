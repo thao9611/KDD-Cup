{
 "cells": [
  {
   "cell_type": "code",
   "execution_count": 4,
   "metadata": {
    "collapsed": false
   },
   "outputs": [
    {
     "data": {
      "text/html": [
       "<div>\n",
       "<table border=\"1\" class=\"dataframe\">\n",
       "  <thead>\n",
       "    <tr style=\"text-align: right;\">\n",
       "      <th></th>\n",
       "      <th>Title</th>\n",
       "      <th>Year</th>\n",
       "      <th>ConferenceId</th>\n",
       "      <th>JournalId</th>\n",
       "      <th>Keyword</th>\n",
       "    </tr>\n",
       "    <tr>\n",
       "      <th>Id</th>\n",
       "      <th></th>\n",
       "      <th></th>\n",
       "      <th></th>\n",
       "      <th></th>\n",
       "      <th></th>\n",
       "    </tr>\n",
       "  </thead>\n",
       "  <tbody>\n",
       "    <tr>\n",
       "      <th>1</th>\n",
       "      <td>Stitching videos streamed by mobile phones in ...</td>\n",
       "      <td>2009</td>\n",
       "      <td>167</td>\n",
       "      <td>0</td>\n",
       "      <td>mobile video capturing|real-time|video stitching</td>\n",
       "    </tr>\n",
       "    <tr>\n",
       "      <th>2</th>\n",
       "      <td>A nonlocal convection–diffusion equation</td>\n",
       "      <td>2007</td>\n",
       "      <td>0</td>\n",
       "      <td>7234</td>\n",
       "      <td>Nonlocal diffusion; Convection–diffusion; Asym...</td>\n",
       "    </tr>\n",
       "    <tr>\n",
       "      <th>3</th>\n",
       "      <td>Area Effects in Cepaea</td>\n",
       "      <td>1963</td>\n",
       "      <td>0</td>\n",
       "      <td>16867</td>\n",
       "      <td></td>\n",
       "    </tr>\n",
       "    <tr>\n",
       "      <th>4</th>\n",
       "      <td>Multiple paternity in a natural population of ...</td>\n",
       "      <td>2005</td>\n",
       "      <td>0</td>\n",
       "      <td>6130</td>\n",
       "      <td></td>\n",
       "    </tr>\n",
       "    <tr>\n",
       "      <th>5</th>\n",
       "      <td>Complexity of Finding Short Resolution Proofs</td>\n",
       "      <td>1997</td>\n",
       "      <td>158</td>\n",
       "      <td>0</td>\n",
       "      <td></td>\n",
       "    </tr>\n",
       "  </tbody>\n",
       "</table>\n",
       "</div>"
      ],
      "text/plain": [
       "                                                Title  Year  ConferenceId  \\\n",
       "Id                                                                          \n",
       "1   Stitching videos streamed by mobile phones in ...  2009           167   \n",
       "2            A nonlocal convection–diffusion equation  2007             0   \n",
       "3                              Area Effects in Cepaea  1963             0   \n",
       "4   Multiple paternity in a natural population of ...  2005             0   \n",
       "5       Complexity of Finding Short Resolution Proofs  1997           158   \n",
       "\n",
       "    JournalId                                            Keyword  \n",
       "Id                                                                \n",
       "1           0   mobile video capturing|real-time|video stitching  \n",
       "2        7234  Nonlocal diffusion; Convection–diffusion; Asym...  \n",
       "3       16867                                                     \n",
       "4        6130                                                     \n",
       "5           0                                                     "
      ]
     },
     "execution_count": 4,
     "metadata": {},
     "output_type": "execute_result"
    }
   ],
   "source": [
    "import pandas as pd\n",
    "import numpy\n",
    "import string\n",
    "from nltk.corpus import stopwords\n",
    "from nltk.tokenize import word_tokenize\n",
    "from nltk.stem.porter import PorterStemmer\n",
    "from sklearn.feature_extraction.text import CountVectorizer, TfidfTransformer\n",
    "stopword = set(stopwords.words('english'))\n",
    "porter = PorterStemmer()\n",
    "paper = pd.read_csv(r\"C:\\Users\\Admin\\Downloads\\KDD-Cup\\dataRev\\Paper.csv\")[:2000]\n",
    "paper= paper.set_index(\"Id\")\n",
    "paper['Keyword']= paper['Keyword'].fillna(\"\")\n",
    "paper['Title']= paper['Title'].fillna(\"\")\n",
    "title = list(paper[\"Title\"])\n",
    "paper.head()"
   ]
  },
  {
   "cell_type": "code",
   "execution_count": 5,
   "metadata": {
    "collapsed": false
   },
   "outputs": [
    {
     "data": {
      "text/plain": [
       "['mobile', 'video', 'capturing|real-time|video', 'stitching']"
      ]
     },
     "execution_count": 5,
     "metadata": {},
     "output_type": "execute_result"
    }
   ],
   "source": [
    "word_tokenize(paper.loc[1,'Keyword'])"
   ]
  },
  {
   "cell_type": "code",
   "execution_count": 6,
   "metadata": {
    "collapsed": false
   },
   "outputs": [],
   "source": [
    "#preprocessing keywords\n",
    "def filter_keyword(text):\n",
    "    for i in string.punctuation: text = text.replace(i,' ')\n",
    "    words = word_tokenize(text) #split words\n",
    "    words = [w.lower() for w in words if w.isalpha()] #get rid of punctuation\n",
    "    words = [w for w in words if w not in  [\"keywords\"] ]\n",
    "    stemmed = [porter.stem(w) for w in words]\n",
    "    return stemmed\n",
    "paper['Keyword_pro'] = paper['Keyword'].map(filter_keyword)\n",
    "    "
   ]
  },
  {
   "cell_type": "code",
   "execution_count": 7,
   "metadata": {
    "collapsed": false
   },
   "outputs": [],
   "source": [
    "\n",
    "\n",
    "def tokenize(text):\n",
    "    #text = text.split() # get single words \n",
    "    #table = maketrans('','',string.punctuation)\n",
    "    #stripped = [w.translate(table).lower() for w in text]#get rid of all punctuation\n",
    "    words = word_tokenize(text) #split words\n",
    "    words = [w.lower() for w in words if w.isalpha()] #get rid of punctuation\n",
    "    words =[w for w in words if  not w in stopword]\n",
    "    stemmed = [porter.stem(w) for w in words]\n",
    "    return stemmed\n",
    "paper['Token'] = paper.Title.map(tokenize)\n"
   ]
  },
  {
   "cell_type": "code",
   "execution_count": 8,
   "metadata": {
    "collapsed": false
   },
   "outputs": [],
   "source": [
    "#concatenate keyword and token\n",
    "paper['Key_token'] = paper[['Keyword_pro','Token']].apply((lambda x: ' '.join(list(set([i for z in x for i in z])))), axis =1)"
   ]
  },
  {
   "cell_type": "code",
   "execution_count": 9,
   "metadata": {
    "collapsed": false
   },
   "outputs": [],
   "source": [
    "token = list(paper['Key_token'])\n",
    "count = CountVectorizer(min_df = 5)\n",
    "tfidf = TfidfTransformer()\n",
    "count_token =count.fit_transform(token).toarray() #2000*527\n",
    "#tfid_token = tfidf.fit_transform(count_token)\n",
    "vocab = list(count.vocabulary_.keys())\n",
    "\n"
   ]
  },
  {
   "cell_type": "code",
   "execution_count": 10,
   "metadata": {
    "collapsed": false
   },
   "outputs": [
    {
     "data": {
      "text/plain": [
       "Id\n",
       "1    [video, mobil, real, stream, time]\n",
       "2                       [diffus, equat]\n",
       "3                        [area, effect]\n",
       "4       [natur, storag, popul, multipl]\n",
       "5              [find, resolut, complex]\n",
       "Name: Common word, dtype: object"
      ]
     },
     "execution_count": 10,
     "metadata": {},
     "output_type": "execute_result"
    }
   ],
   "source": [
    "#list of common words in each title of each document\n",
    "paper['Common word'] = paper['Key_token'].map(lambda x: [i for i in x.split() if i in vocab])\n",
    "paper.loc[:5,'Common word']\n",
    "    "
   ]
  },
  {
   "cell_type": "code",
   "execution_count": 11,
   "metadata": {
    "collapsed": false
   },
   "outputs": [
    {
     "data": {
      "text/html": [
       "<div>\n",
       "<table border=\"1\" class=\"dataframe\">\n",
       "  <thead>\n",
       "    <tr style=\"text-align: right;\">\n",
       "      <th></th>\n",
       "      <th>Title</th>\n",
       "      <th>Year</th>\n",
       "      <th>ConferenceId</th>\n",
       "      <th>JournalId</th>\n",
       "      <th>Keyword</th>\n",
       "      <th>Keyword_pro</th>\n",
       "      <th>Token</th>\n",
       "      <th>Key_token</th>\n",
       "      <th>Common word</th>\n",
       "    </tr>\n",
       "    <tr>\n",
       "      <th>Id</th>\n",
       "      <th></th>\n",
       "      <th></th>\n",
       "      <th></th>\n",
       "      <th></th>\n",
       "      <th></th>\n",
       "      <th></th>\n",
       "      <th></th>\n",
       "      <th></th>\n",
       "      <th></th>\n",
       "    </tr>\n",
       "  </thead>\n",
       "  <tbody>\n",
       "    <tr>\n",
       "      <th>1</th>\n",
       "      <td>Stitching videos streamed by mobile phones in ...</td>\n",
       "      <td>2009</td>\n",
       "      <td>167</td>\n",
       "      <td>0</td>\n",
       "      <td>mobile video capturing|real-time|video stitching</td>\n",
       "      <td>[mobil, video, captur, real, time, video, stitch]</td>\n",
       "      <td>[stitch, video, stream, mobil, phone]</td>\n",
       "      <td>video phone mobil real stream time captur stitch</td>\n",
       "      <td>[video, mobil, real, stream, time]</td>\n",
       "    </tr>\n",
       "    <tr>\n",
       "      <th>2</th>\n",
       "      <td>A nonlocal convection–diffusion equation</td>\n",
       "      <td>2007</td>\n",
       "      <td>0</td>\n",
       "      <td>7234</td>\n",
       "      <td>Nonlocal diffusion; Convection–diffusion; Asym...</td>\n",
       "      <td>[nonloc, diffus, asymptot, behaviour]</td>\n",
       "      <td>[nonloc, equat]</td>\n",
       "      <td>asymptot diffus behaviour nonloc equat</td>\n",
       "      <td>[diffus, equat]</td>\n",
       "    </tr>\n",
       "    <tr>\n",
       "      <th>3</th>\n",
       "      <td>Area Effects in Cepaea</td>\n",
       "      <td>1963</td>\n",
       "      <td>0</td>\n",
       "      <td>16867</td>\n",
       "      <td></td>\n",
       "      <td>[]</td>\n",
       "      <td>[area, effect, cepaea]</td>\n",
       "      <td>area effect cepaea</td>\n",
       "      <td>[area, effect]</td>\n",
       "    </tr>\n",
       "    <tr>\n",
       "      <th>4</th>\n",
       "      <td>Multiple paternity in a natural population of ...</td>\n",
       "      <td>2005</td>\n",
       "      <td>0</td>\n",
       "      <td>6130</td>\n",
       "      <td></td>\n",
       "      <td>[]</td>\n",
       "      <td>[multipl, patern, natur, popul, salamand, sper...</td>\n",
       "      <td>sperm salamand natur storag popul multipl patern</td>\n",
       "      <td>[natur, storag, popul, multipl]</td>\n",
       "    </tr>\n",
       "    <tr>\n",
       "      <th>5</th>\n",
       "      <td>Complexity of Finding Short Resolution Proofs</td>\n",
       "      <td>1997</td>\n",
       "      <td>158</td>\n",
       "      <td>0</td>\n",
       "      <td></td>\n",
       "      <td>[]</td>\n",
       "      <td>[complex, find, short, resolut, proof]</td>\n",
       "      <td>short proof find resolut complex</td>\n",
       "      <td>[find, resolut, complex]</td>\n",
       "    </tr>\n",
       "  </tbody>\n",
       "</table>\n",
       "</div>"
      ],
      "text/plain": [
       "                                                Title  Year  ConferenceId  \\\n",
       "Id                                                                          \n",
       "1   Stitching videos streamed by mobile phones in ...  2009           167   \n",
       "2            A nonlocal convection–diffusion equation  2007             0   \n",
       "3                              Area Effects in Cepaea  1963             0   \n",
       "4   Multiple paternity in a natural population of ...  2005             0   \n",
       "5       Complexity of Finding Short Resolution Proofs  1997           158   \n",
       "\n",
       "    JournalId                                            Keyword  \\\n",
       "Id                                                                 \n",
       "1           0   mobile video capturing|real-time|video stitching   \n",
       "2        7234  Nonlocal diffusion; Convection–diffusion; Asym...   \n",
       "3       16867                                                      \n",
       "4        6130                                                      \n",
       "5           0                                                      \n",
       "\n",
       "                                          Keyword_pro  \\\n",
       "Id                                                      \n",
       "1   [mobil, video, captur, real, time, video, stitch]   \n",
       "2               [nonloc, diffus, asymptot, behaviour]   \n",
       "3                                                  []   \n",
       "4                                                  []   \n",
       "5                                                  []   \n",
       "\n",
       "                                                Token  \\\n",
       "Id                                                      \n",
       "1               [stitch, video, stream, mobil, phone]   \n",
       "2                                     [nonloc, equat]   \n",
       "3                              [area, effect, cepaea]   \n",
       "4   [multipl, patern, natur, popul, salamand, sper...   \n",
       "5              [complex, find, short, resolut, proof]   \n",
       "\n",
       "                                           Key_token  \\\n",
       "Id                                                     \n",
       "1   video phone mobil real stream time captur stitch   \n",
       "2             asymptot diffus behaviour nonloc equat   \n",
       "3                                 area effect cepaea   \n",
       "4   sperm salamand natur storag popul multipl patern   \n",
       "5                   short proof find resolut complex   \n",
       "\n",
       "                           Common word  \n",
       "Id                                      \n",
       "1   [video, mobil, real, stream, time]  \n",
       "2                      [diffus, equat]  \n",
       "3                       [area, effect]  \n",
       "4      [natur, storag, popul, multipl]  \n",
       "5             [find, resolut, complex]  "
      ]
     },
     "execution_count": 11,
     "metadata": {},
     "output_type": "execute_result"
    }
   ],
   "source": [
    "paper.head()"
   ]
  },
  {
   "cell_type": "code",
   "execution_count": 12,
   "metadata": {
    "collapsed": true
   },
   "outputs": [],
   "source": [
    "#similarity between two document based on their keywords\n",
    "def paper_common_word(id1, id2):\n",
    "    sim = 0\n",
    "    word1 = paper.loc[id1,'Common word']\n",
    "    word2 = paper.loc[id2, 'Common word']\n",
    "    for i in word1:\n",
    "        if i in word2:\n",
    "            sim += 1\n",
    "    return sim"
   ]
  },
  {
   "cell_type": "code",
   "execution_count": 42,
   "metadata": {
    "collapsed": false
   },
   "outputs": [
    {
     "name": "stdout",
     "output_type": "stream",
     "text": [
      "[0, 1920, 1922, 1926, 1934, 1946, 1949, 1952, 1953, 1954, 1956, 1957, 1959, 1960, 1961, 1962, 1963, 1964, 1966, 1967, 1968, 1969, 1970, 1971, 1972, 1918, 1974, 1975, 1976, 1977, 1978, 1979, 1980, 1981, 1982, 1983, 1984, 1985, 1986, 1987, 1988, 1989, 1990, 1991, 1992, 1993, 1994, 1995, 1996, 1997, 1998, 1999, 2000, 2001, 2002, 2003, 2004, 2005, 2006, 2007, 2008, 2009, 2010, 2011, 2012, 1889, -1]\n"
     ]
    }
   ],
   "source": [
    "years = list(set(paper['Year']))\n",
    "print (years)"
   ]
  },
  {
   "cell_type": "code",
   "execution_count": 49,
   "metadata": {
    "collapsed": false
   },
   "outputs": [],
   "source": [
    "#similarity between two documents based on their pulished year\n",
    "def paper_year(id1, id2):\n",
    "    year1 = paper.loc[id1,'Year']\n",
    "    year2 = paper.loc[id2, 'Year']\n",
    "    if (year1 == 0 | year2 == 0 | year1 == -1 | year2 == -1 ): return 0\n",
    "    return 1/(1+ abs(year1 - year2 ) )# can be adjusted to find the best formula"
   ]
  },
  {
   "cell_type": "code",
   "execution_count": 52,
   "metadata": {
    "collapsed": false
   },
   "outputs": [],
   "source": [
    "word_weight =1\n",
    "year_weight = 1\n",
    "journal_weight =1\n",
    "conference_weight =1\n",
    "def paper_sim(id1, id2):\n",
    "    word_sim = paper_common_word(id1, id2)\n",
    "    year_sim = paper_year(id1, id2)\n",
    "    journal_sim = paper.loc[id1,'JournalId'] == paper.loc[id2, 'JournalId']\n",
    "    conference_sim = paper.loc[id1,'ConferenceId'] == paper.loc[id2, 'ConferenceId']\n",
    "    return word_sim* word_weight + year_weight* year_sim +journal_sim * journal_weight + conference_sim * conference_weight\n"
   ]
  },
  {
   "cell_type": "code",
   "execution_count": 53,
   "metadata": {
    "collapsed": false
   },
   "outputs": [
    {
     "data": {
      "text/plain": [
       "0.20000000000000001"
      ]
     },
     "execution_count": 53,
     "metadata": {},
     "output_type": "execute_result"
    }
   ],
   "source": [
    "paper_sim(5,45)"
   ]
  },
  {
   "cell_type": "code",
   "execution_count": null,
   "metadata": {
    "collapsed": true
   },
   "outputs": [],
   "source": []
  }
 ],
 "metadata": {
  "anaconda-cloud": {},
  "kernelspec": {
   "display_name": "Python [conda root]",
   "language": "python",
   "name": "conda-root-py"
  },
  "language_info": {
   "codemirror_mode": {
    "name": "ipython",
    "version": 3
   },
   "file_extension": ".py",
   "mimetype": "text/x-python",
   "name": "python",
   "nbconvert_exporter": "python",
   "pygments_lexer": "ipython3",
   "version": "3.5.2"
  }
 },
 "nbformat": 4,
 "nbformat_minor": 1
}
