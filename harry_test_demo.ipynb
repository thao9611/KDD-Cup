{
 "cells": [
  {
   "cell_type": "code",
   "execution_count": 1,
   "metadata": {
    "collapsed": true,
    "deletable": true,
    "editable": true
   },
   "outputs": [],
   "source": [
    "import pickle\n",
    "import data_io\n",
    "import pandas as pd\n",
    "import numpy as np\n",
    "from feature_set import *\n",
    "from Thao_features import *\n",
    "from kamil_features import *\n",
    "import time\n",
    "import unidecode\n",
    "\n",
    "%load_ext autoreload\n",
    "%autoreload 2"
   ]
  },
  {
   "cell_type": "code",
   "execution_count": 2,
   "metadata": {
    "collapsed": true,
    "deletable": true,
    "editable": true
   },
   "outputs": [],
   "source": [
    "def read_all_DS():\n",
    "    dataset = {}\n",
    "\n",
    "    dataset['paper'] = pd.read_csv('dataRev2/Paper.csv')\n",
    "    dataset['author'] = pd.read_csv('dataRev2/Author.csv')\n",
    "    '''\n",
    "    dataset['conference'] = pd.read_csv('dataRev2/Conference.csv')\n",
    "    dataset['journal'] = pd.read_csv('dataRev2/Journal.csv')\n",
    "    '''\n",
    "    dataset['paper_author'] = pd.read_csv('dataRev2/PaperAuthor.csv')\n",
    "    return dataset"
   ]
  },
  {
   "cell_type": "code",
   "execution_count": 3,
   "metadata": {
    "collapsed": false,
    "deletable": true,
    "editable": true
   },
   "outputs": [
    {
     "name": "stdout",
     "output_type": "stream",
     "text": [
      "Read dataset\n",
      "Indexing start 26.28817081451416\n"
     ]
    }
   ],
   "source": [
    "start_time = time.time()\n",
    "print (\"Read dataset\")\n",
    "dataset = read_all_DS()\n",
    "\n",
    "paper_author = dataset['paper_author']\n",
    "paper_author[\"Name\"].fillna(\"\", inplace=True)\n",
    "paper_author[\"Affiliation\"].fillna(\"\", inplace=True)\n",
    "\n",
    "author = dataset['author']\n",
    "author[\"Name\"].fillna(\"\", inplace=True)\n",
    "author[\"Affiliation\"].fillna(\"\", inplace=True)\n",
    "\n",
    "paper = dataset['paper']\n",
    "paper[\"Title\"].fillna(\"\", inplace=True)\n",
    "\n",
    "print (\"Indexing start %s\" % (time.time() - start_time))\n",
    "pa_indexed = paper_author.set_index(['AuthorId','PaperId']).sort_index()\n",
    "author_indexed = author.set_index(['Id']).sort_index()\n",
    "paper_indexed = paper.set_index(['Id']).sort_index()"
   ]
  },
  {
   "cell_type": "code",
   "execution_count": 5,
   "metadata": {
    "collapsed": false,
    "deletable": true,
    "editable": true
   },
   "outputs": [
    {
     "data": {
      "text/plain": [
       "Title           FcγRIIa genotype is associated with acute coro...\n",
       "Year                                                         2009\n",
       "ConferenceId                                                    0\n",
       "JournalId                                                    2661\n",
       "Keyword         Acute coronary syndrome; Gene polymorphism; Fc...\n",
       "Name: 1194814, dtype: object"
      ]
     },
     "execution_count": 5,
     "metadata": {},
     "output_type": "execute_result"
    }
   ],
   "source": [
    "paper_indexed.loc[1194814]"
   ]
  },
  {
   "cell_type": "code",
   "execution_count": null,
   "metadata": {
    "collapsed": true,
    "deletable": true,
    "editable": true
   },
   "outputs": [],
   "source": []
  }
 ],
 "metadata": {
  "kernelspec": {
   "display_name": "Python 3",
   "language": "python",
   "name": "python3"
  },
  "language_info": {
   "codemirror_mode": {
    "name": "ipython",
    "version": 3
   },
   "file_extension": ".py",
   "mimetype": "text/x-python",
   "name": "python",
   "nbconvert_exporter": "python",
   "pygments_lexer": "ipython3",
   "version": "3.6.0"
  }
 },
 "nbformat": 4,
 "nbformat_minor": 2
}
